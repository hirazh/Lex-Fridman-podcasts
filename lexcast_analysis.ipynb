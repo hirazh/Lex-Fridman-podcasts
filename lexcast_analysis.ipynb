{
 "cells": [
  {
   "cell_type": "markdown",
   "metadata": {},
   "source": [
    "## Analysis: Lex Fridman Podcast"
   ]
  },
  {
   "cell_type": "code",
   "execution_count": 233,
   "metadata": {},
   "outputs": [],
   "source": [
    "import numpy as np\n",
    "import pandas as pd\n",
    "import matplotlib.pyplot as plt\n",
    "from wordcloud import WordCloud\n",
    "import plotly.graph_objects as go\n",
    "import plotly.express as px\n",
    "\n",
    "import re\n",
    "import time"
   ]
  },
  {
   "cell_type": "code",
   "execution_count": 234,
   "metadata": {},
   "outputs": [
    {
     "data": {
      "text/html": [
       "<div>\n",
       "<style scoped>\n",
       "    .dataframe tbody tr th:only-of-type {\n",
       "        vertical-align: middle;\n",
       "    }\n",
       "\n",
       "    .dataframe tbody tr th {\n",
       "        vertical-align: top;\n",
       "    }\n",
       "\n",
       "    .dataframe thead th {\n",
       "        text-align: right;\n",
       "    }\n",
       "</style>\n",
       "<table border=\"1\" class=\"dataframe\">\n",
       "  <thead>\n",
       "    <tr style=\"text-align: right;\">\n",
       "      <th></th>\n",
       "      <th>Title</th>\n",
       "      <th>Date</th>\n",
       "      <th>Length</th>\n",
       "      <th>Views</th>\n",
       "    </tr>\n",
       "  </thead>\n",
       "  <tbody>\n",
       "    <tr>\n",
       "      <th>0</th>\n",
       "      <td>John Danaher: Grappling, Jiu Jitsu, ADCC, and ...</td>\n",
       "      <td>2022-10-10</td>\n",
       "      <td>17318</td>\n",
       "      <td>181424</td>\n",
       "    </tr>\n",
       "    <tr>\n",
       "      <th>1</th>\n",
       "      <td>GothamChess: Hans Niemann, Magnus Carlsen, Che...</td>\n",
       "      <td>2022-10-07</td>\n",
       "      <td>12798</td>\n",
       "      <td>351784</td>\n",
       "    </tr>\n",
       "    <tr>\n",
       "      <th>2</th>\n",
       "      <td>Annaka Harris: Free Will, Consciousness, and t...</td>\n",
       "      <td>2022-10-05</td>\n",
       "      <td>9580</td>\n",
       "      <td>235480</td>\n",
       "    </tr>\n",
       "    <tr>\n",
       "      <th>3</th>\n",
       "      <td>Michael Levin: Biology, Life, Aliens, Evolutio...</td>\n",
       "      <td>2022-10-01</td>\n",
       "      <td>10821</td>\n",
       "      <td>664082</td>\n",
       "    </tr>\n",
       "    <tr>\n",
       "      <th>4</th>\n",
       "      <td>Daniel Negreanu: Poker | Lex Fridman Podcast #324</td>\n",
       "      <td>2022-09-27</td>\n",
       "      <td>8488</td>\n",
       "      <td>466285</td>\n",
       "    </tr>\n",
       "    <tr>\n",
       "      <th>...</th>\n",
       "      <td>...</td>\n",
       "      <td>...</td>\n",
       "      <td>...</td>\n",
       "      <td>...</td>\n",
       "    </tr>\n",
       "    <tr>\n",
       "      <th>318</th>\n",
       "      <td>Vladimir Vapnik: Statistical Learning | Lex Fr...</td>\n",
       "      <td>2018-11-16</td>\n",
       "      <td>3242</td>\n",
       "      <td>58452</td>\n",
       "    </tr>\n",
       "    <tr>\n",
       "      <th>319</th>\n",
       "      <td>Yoshua Bengio: Deep Learning | Lex Fridman Pod...</td>\n",
       "      <td>2018-10-20</td>\n",
       "      <td>2538</td>\n",
       "      <td>104517</td>\n",
       "    </tr>\n",
       "    <tr>\n",
       "      <th>320</th>\n",
       "      <td>Steven Pinker: AI in the Age of Reason | Lex F...</td>\n",
       "      <td>2018-10-17</td>\n",
       "      <td>2273</td>\n",
       "      <td>88726</td>\n",
       "    </tr>\n",
       "    <tr>\n",
       "      <th>321</th>\n",
       "      <td>Christof Koch: Consciousness | Lex Fridman Pod...</td>\n",
       "      <td>2018-05-29</td>\n",
       "      <td>3474</td>\n",
       "      <td>190640</td>\n",
       "    </tr>\n",
       "    <tr>\n",
       "      <th>322</th>\n",
       "      <td>Max Tegmark: Life 3.0 | Lex Fridman Podcast #1</td>\n",
       "      <td>2018-04-19</td>\n",
       "      <td>4978</td>\n",
       "      <td>231358</td>\n",
       "    </tr>\n",
       "  </tbody>\n",
       "</table>\n",
       "<p>323 rows × 4 columns</p>\n",
       "</div>"
      ],
      "text/plain": [
       "                                                 Title        Date  Length  \\\n",
       "0    John Danaher: Grappling, Jiu Jitsu, ADCC, and ...  2022-10-10   17318   \n",
       "1    GothamChess: Hans Niemann, Magnus Carlsen, Che...  2022-10-07   12798   \n",
       "2    Annaka Harris: Free Will, Consciousness, and t...  2022-10-05    9580   \n",
       "3    Michael Levin: Biology, Life, Aliens, Evolutio...  2022-10-01   10821   \n",
       "4    Daniel Negreanu: Poker | Lex Fridman Podcast #324  2022-09-27    8488   \n",
       "..                                                 ...         ...     ...   \n",
       "318  Vladimir Vapnik: Statistical Learning | Lex Fr...  2018-11-16    3242   \n",
       "319  Yoshua Bengio: Deep Learning | Lex Fridman Pod...  2018-10-20    2538   \n",
       "320  Steven Pinker: AI in the Age of Reason | Lex F...  2018-10-17    2273   \n",
       "321  Christof Koch: Consciousness | Lex Fridman Pod...  2018-05-29    3474   \n",
       "322     Max Tegmark: Life 3.0 | Lex Fridman Podcast #1  2018-04-19    4978   \n",
       "\n",
       "      Views  \n",
       "0    181424  \n",
       "1    351784  \n",
       "2    235480  \n",
       "3    664082  \n",
       "4    466285  \n",
       "..      ...  \n",
       "318   58452  \n",
       "319  104517  \n",
       "320   88726  \n",
       "321  190640  \n",
       "322  231358  \n",
       "\n",
       "[323 rows x 4 columns]"
      ]
     },
     "execution_count": 234,
     "metadata": {},
     "output_type": "execute_result"
    }
   ],
   "source": [
    "lexcast_df = pd.read_csv(r\"C:\\Users\\Hiras\\Analysis_Hiras\\lexcast\\output\\lexcast_playlist.csv\")\n",
    "lexcast_df"
   ]
  },
  {
   "cell_type": "code",
   "execution_count": 235,
   "metadata": {},
   "outputs": [
    {
     "name": "stdout",
     "output_type": "stream",
     "text": [
      "<class 'pandas.core.frame.DataFrame'>\n",
      "RangeIndex: 323 entries, 0 to 322\n",
      "Data columns (total 4 columns):\n",
      " #   Column  Non-Null Count  Dtype \n",
      "---  ------  --------------  ----- \n",
      " 0   Title   323 non-null    object\n",
      " 1   Date    323 non-null    object\n",
      " 2   Length  323 non-null    int64 \n",
      " 3   Views   323 non-null    int64 \n",
      "dtypes: int64(2), object(2)\n",
      "memory usage: 10.2+ KB\n"
     ]
    }
   ],
   "source": [
    "lexcast_df.info()"
   ]
  },
  {
   "cell_type": "code",
   "execution_count": 236,
   "metadata": {},
   "outputs": [],
   "source": [
    "# Regex Patterns to extract data from Title\n",
    "pat1 = r'^[^:]*'\n",
    "pat2 = r'[0-9]*$'\n",
    "pat3 = r'(:.*?\\|)'\n",
    "\n",
    "# Since the topics require lot of cleaning, Included all the steps inside a function to be called in the Lambda function.\n",
    "def topics(s):\n",
    "    s = re.findall(pat3, s)\n",
    "    s = s[0].replace(\":\", \"\").replace(\"|\", \"\").rstrip().lstrip()\n",
    "\n",
    "    # Removing those articles from the Topics\n",
    "    if \"and\" in s or \"the\" in s:\n",
    "        s = s.replace(\"and\", \"\").replace(\"the\", \"\")\n",
    "\n",
    "    # Split topics into items in a list and remove white spaces\n",
    "    s = s.split(\",\")\n",
    "    s = [x.lstrip() for x in s]\n",
    "\n",
    "    return s\n",
    "\n",
    "\n",
    "lexcast_df[\"Guest Name\"] = lexcast_df[\"Title\"].apply(lambda x: re.findall(pat1, x)[0])\n",
    "lexcast_df[\"Podcast Number\"] = lexcast_df[\"Title\"].apply(lambda x: re.findall(pat2, x)[0])\n",
    "lexcast_df[\"Topics Discussed\"] = lexcast_df[\"Title\"].apply(lambda x: topics(x))\n",
    "\n",
    "# lexcast_df"
   ]
  },
  {
   "cell_type": "code",
   "execution_count": 237,
   "metadata": {},
   "outputs": [
    {
     "data": {
      "text/html": [
       "<div>\n",
       "<style scoped>\n",
       "    .dataframe tbody tr th:only-of-type {\n",
       "        vertical-align: middle;\n",
       "    }\n",
       "\n",
       "    .dataframe tbody tr th {\n",
       "        vertical-align: top;\n",
       "    }\n",
       "\n",
       "    .dataframe thead th {\n",
       "        text-align: right;\n",
       "    }\n",
       "</style>\n",
       "<table border=\"1\" class=\"dataframe\">\n",
       "  <thead>\n",
       "    <tr style=\"text-align: right;\">\n",
       "      <th></th>\n",
       "      <th>Title</th>\n",
       "      <th>Date</th>\n",
       "      <th>Length</th>\n",
       "      <th>Views</th>\n",
       "      <th>Guest Name</th>\n",
       "      <th>Podcast Number</th>\n",
       "      <th>Topics Discussed</th>\n",
       "      <th>Length(hh:mm:ss)</th>\n",
       "    </tr>\n",
       "  </thead>\n",
       "  <tbody>\n",
       "    <tr>\n",
       "      <th>0</th>\n",
       "      <td>Max Tegmark: Life 3.0 | Lex Fridman Podcast #1</td>\n",
       "      <td>2018-04-19</td>\n",
       "      <td>4978</td>\n",
       "      <td>231358</td>\n",
       "      <td>Max Tegmark</td>\n",
       "      <td>1</td>\n",
       "      <td>[Life 3.0]</td>\n",
       "      <td>01:22:58</td>\n",
       "    </tr>\n",
       "    <tr>\n",
       "      <th>1</th>\n",
       "      <td>Christof Koch: Consciousness | Lex Fridman Pod...</td>\n",
       "      <td>2018-05-29</td>\n",
       "      <td>3474</td>\n",
       "      <td>190640</td>\n",
       "      <td>Christof Koch</td>\n",
       "      <td>2</td>\n",
       "      <td>[Consciousness]</td>\n",
       "      <td>00:57:54</td>\n",
       "    </tr>\n",
       "    <tr>\n",
       "      <th>2</th>\n",
       "      <td>Steven Pinker: AI in the Age of Reason | Lex F...</td>\n",
       "      <td>2018-10-17</td>\n",
       "      <td>2273</td>\n",
       "      <td>88726</td>\n",
       "      <td>Steven Pinker</td>\n",
       "      <td>3</td>\n",
       "      <td>[AI in  Age of Reason]</td>\n",
       "      <td>00:37:53</td>\n",
       "    </tr>\n",
       "    <tr>\n",
       "      <th>3</th>\n",
       "      <td>Yoshua Bengio: Deep Learning | Lex Fridman Pod...</td>\n",
       "      <td>2018-10-20</td>\n",
       "      <td>2538</td>\n",
       "      <td>104517</td>\n",
       "      <td>Yoshua Bengio</td>\n",
       "      <td>4</td>\n",
       "      <td>[Deep Learning]</td>\n",
       "      <td>00:42:18</td>\n",
       "    </tr>\n",
       "    <tr>\n",
       "      <th>4</th>\n",
       "      <td>Vladimir Vapnik: Statistical Learning | Lex Fr...</td>\n",
       "      <td>2018-11-16</td>\n",
       "      <td>3242</td>\n",
       "      <td>58452</td>\n",
       "      <td>Vladimir Vapnik</td>\n",
       "      <td>5</td>\n",
       "      <td>[Statistical Learning]</td>\n",
       "      <td>00:54:02</td>\n",
       "    </tr>\n",
       "    <tr>\n",
       "      <th>...</th>\n",
       "      <td>...</td>\n",
       "      <td>...</td>\n",
       "      <td>...</td>\n",
       "      <td>...</td>\n",
       "      <td>...</td>\n",
       "      <td>...</td>\n",
       "      <td>...</td>\n",
       "      <td>...</td>\n",
       "    </tr>\n",
       "    <tr>\n",
       "      <th>318</th>\n",
       "      <td>Daniel Negreanu: Poker | Lex Fridman Podcast #324</td>\n",
       "      <td>2022-09-27</td>\n",
       "      <td>8488</td>\n",
       "      <td>466285</td>\n",
       "      <td>Daniel Negreanu</td>\n",
       "      <td>324</td>\n",
       "      <td>[Poker]</td>\n",
       "      <td>02:21:28</td>\n",
       "    </tr>\n",
       "    <tr>\n",
       "      <th>319</th>\n",
       "      <td>Michael Levin: Biology, Life, Aliens, Evolutio...</td>\n",
       "      <td>2022-10-01</td>\n",
       "      <td>10821</td>\n",
       "      <td>664082</td>\n",
       "      <td>Michael Levin</td>\n",
       "      <td>325</td>\n",
       "      <td>[Biology, Life, Aliens, Evolution, Embryogenes...</td>\n",
       "      <td>03:00:21</td>\n",
       "    </tr>\n",
       "    <tr>\n",
       "      <th>320</th>\n",
       "      <td>Annaka Harris: Free Will, Consciousness, and t...</td>\n",
       "      <td>2022-10-05</td>\n",
       "      <td>9580</td>\n",
       "      <td>235480</td>\n",
       "      <td>Annaka Harris</td>\n",
       "      <td>326</td>\n",
       "      <td>[Free Will, Consciousness, Nature of Reality]</td>\n",
       "      <td>02:39:40</td>\n",
       "    </tr>\n",
       "    <tr>\n",
       "      <th>321</th>\n",
       "      <td>GothamChess: Hans Niemann, Magnus Carlsen, Che...</td>\n",
       "      <td>2022-10-07</td>\n",
       "      <td>12798</td>\n",
       "      <td>351784</td>\n",
       "      <td>GothamChess</td>\n",
       "      <td>327</td>\n",
       "      <td>[Hans Niemann, Magnus Carlsen, Cheating Scal &amp;...</td>\n",
       "      <td>03:33:18</td>\n",
       "    </tr>\n",
       "    <tr>\n",
       "      <th>322</th>\n",
       "      <td>John Danaher: Grappling, Jiu Jitsu, ADCC, and ...</td>\n",
       "      <td>2022-10-10</td>\n",
       "      <td>17318</td>\n",
       "      <td>181424</td>\n",
       "      <td>John Danaher</td>\n",
       "      <td>328</td>\n",
       "      <td>[Grappling, Jiu Jitsu, ADCC, Animal Combat]</td>\n",
       "      <td>04:48:38</td>\n",
       "    </tr>\n",
       "  </tbody>\n",
       "</table>\n",
       "<p>323 rows × 8 columns</p>\n",
       "</div>"
      ],
      "text/plain": [
       "                                                 Title        Date  Length  \\\n",
       "0       Max Tegmark: Life 3.0 | Lex Fridman Podcast #1  2018-04-19    4978   \n",
       "1    Christof Koch: Consciousness | Lex Fridman Pod...  2018-05-29    3474   \n",
       "2    Steven Pinker: AI in the Age of Reason | Lex F...  2018-10-17    2273   \n",
       "3    Yoshua Bengio: Deep Learning | Lex Fridman Pod...  2018-10-20    2538   \n",
       "4    Vladimir Vapnik: Statistical Learning | Lex Fr...  2018-11-16    3242   \n",
       "..                                                 ...         ...     ...   \n",
       "318  Daniel Negreanu: Poker | Lex Fridman Podcast #324  2022-09-27    8488   \n",
       "319  Michael Levin: Biology, Life, Aliens, Evolutio...  2022-10-01   10821   \n",
       "320  Annaka Harris: Free Will, Consciousness, and t...  2022-10-05    9580   \n",
       "321  GothamChess: Hans Niemann, Magnus Carlsen, Che...  2022-10-07   12798   \n",
       "322  John Danaher: Grappling, Jiu Jitsu, ADCC, and ...  2022-10-10   17318   \n",
       "\n",
       "      Views       Guest Name Podcast Number  \\\n",
       "0    231358      Max Tegmark              1   \n",
       "1    190640    Christof Koch              2   \n",
       "2     88726    Steven Pinker              3   \n",
       "3    104517    Yoshua Bengio              4   \n",
       "4     58452  Vladimir Vapnik              5   \n",
       "..      ...              ...            ...   \n",
       "318  466285  Daniel Negreanu            324   \n",
       "319  664082    Michael Levin            325   \n",
       "320  235480    Annaka Harris            326   \n",
       "321  351784      GothamChess            327   \n",
       "322  181424     John Danaher            328   \n",
       "\n",
       "                                      Topics Discussed Length(hh:mm:ss)  \n",
       "0                                           [Life 3.0]         01:22:58  \n",
       "1                                      [Consciousness]         00:57:54  \n",
       "2                               [AI in  Age of Reason]         00:37:53  \n",
       "3                                      [Deep Learning]         00:42:18  \n",
       "4                               [Statistical Learning]         00:54:02  \n",
       "..                                                 ...              ...  \n",
       "318                                            [Poker]         02:21:28  \n",
       "319  [Biology, Life, Aliens, Evolution, Embryogenes...         03:00:21  \n",
       "320      [Free Will, Consciousness, Nature of Reality]         02:39:40  \n",
       "321  [Hans Niemann, Magnus Carlsen, Cheating Scal &...         03:33:18  \n",
       "322        [Grappling, Jiu Jitsu, ADCC, Animal Combat]         04:48:38  \n",
       "\n",
       "[323 rows x 8 columns]"
      ]
     },
     "execution_count": 237,
     "metadata": {},
     "output_type": "execute_result"
    }
   ],
   "source": [
    "lexcast_df[\"Length(hh:mm:ss)\"] = lexcast_df[\"Length\"].apply(lambda x: time.strftime(\"%H:%M:%S\", time.gmtime(x)))\n",
    "\n",
    "lexcast_df = lexcast_df.sort_values(by=[\"Date\"]).reset_index(drop=True)\n",
    "lexcast_df"
   ]
  },
  {
   "cell_type": "code",
   "execution_count": 238,
   "metadata": {},
   "outputs": [
    {
     "data": {
      "text/plain": [
       "Title               False\n",
       "Date                False\n",
       "Length              False\n",
       "Views               False\n",
       "Guest Name          False\n",
       "Podcast Number      False\n",
       "Topics Discussed    False\n",
       "Length(hh:mm:ss)    False\n",
       "dtype: bool"
      ]
     },
     "execution_count": 238,
     "metadata": {},
     "output_type": "execute_result"
    }
   ],
   "source": [
    "lexcast_df.isna().any()"
   ]
  },
  {
   "cell_type": "code",
   "execution_count": 239,
   "metadata": {},
   "outputs": [
    {
     "data": {
      "application/vnd.plotly.v1+json": {
       "config": {
        "plotlyServerURL": "https://plot.ly"
       },
       "data": [
        {
         "hovertemplate": "Date=%{x}<br>Views=%{y}<extra></extra>",
         "legendgroup": "",
         "line": {
          "color": "#636efa",
          "dash": "solid"
         },
         "marker": {
          "symbol": "circle"
         },
         "mode": "lines",
         "name": "",
         "orientation": "v",
         "showlegend": false,
         "type": "scatter",
         "x": [
          "2018-04-19",
          "2018-05-29",
          "2018-10-17",
          "2018-10-20",
          "2018-11-16",
          "2018-11-22",
          "2018-11-29",
          "2018-12-04",
          "2018-12-09",
          "2018-12-16",
          "2018-12-23",
          "2018-12-28",
          "2019-01-19",
          "2019-02-07",
          "2019-03-12",
          "2019-03-20",
          "2019-04-03",
          "2019-04-12",
          "2019-04-18",
          "2019-04-29",
          "2019-05-13",
          "2019-06-03",
          "2019-06-10",
          "2019-06-17",
          "2019-07-01",
          "2019-07-10",
          "2019-07-15",
          "2019-07-22",
          "2019-07-29",
          "2019-08-01",
          "2019-08-05",
          "2019-08-12",
          "2019-08-19",
          "2019-08-23",
          "2019-08-27",
          "2019-08-31",
          "2019-09-08",
          "2019-09-14",
          "2019-09-19",
          "2019-09-23",
          "2019-09-26",
          "2019-09-30",
          "2019-10-03",
          "2019-10-11",
          "2019-10-22",
          "2019-10-27",
          "2019-11-01",
          "2019-11-07",
          "2019-11-12",
          "2019-11-19",
          "2019-11-22",
          "2019-11-25",
          "2019-11-29",
          "2019-12-02",
          "2019-12-05",
          "2019-12-11",
          "2019-12-14",
          "2019-12-17",
          "2019-12-21",
          "2019-12-25",
          "2019-12-28",
          "2019-12-30",
          "2020-01-03",
          "2020-01-07",
          "2020-01-14",
          "2020-01-17",
          "2020-01-21",
          "2020-01-25",
          "2020-01-29",
          "2020-02-05",
          "2020-02-14",
          "2020-02-17",
          "2020-02-20",
          "2020-02-24",
          "2020-02-26",
          "2020-02-29",
          "2020-03-03",
          "2020-03-05",
          "2020-03-07",
          "2020-03-16",
          "2020-03-19",
          "2020-03-21",
          "2020-03-25",
          "2020-03-28",
          "2020-03-31",
          "2020-04-03",
          "2020-04-09",
          "2020-04-13",
          "2020-04-18",
          "2020-04-22",
          "2020-04-24",
          "2020-04-29",
          "2020-05-05",
          "2020-05-08",
          "2020-05-12",
          "2020-05-15",
          "2020-05-19",
          "2020-05-23",
          "2020-05-28",
          "2020-06-13",
          "2020-06-20",
          "2020-06-22",
          "2020-06-27",
          "2020-06-30",
          "2020-07-03",
          "2020-07-08",
          "2020-07-14",
          "2020-07-18",
          "2020-07-21",
          "2020-07-26",
          "2020-07-29",
          "2020-07-31",
          "2020-08-09",
          "2020-08-14",
          "2020-08-16",
          "2020-08-20",
          "2020-08-23",
          "2020-08-26",
          "2020-08-30",
          "2020-09-05",
          "2020-09-08",
          "2020-09-12",
          "2020-09-15",
          "2020-09-20",
          "2020-09-24",
          "2020-09-26",
          "2020-10-02",
          "2020-10-04",
          "2020-10-11",
          "2020-10-18",
          "2020-10-21",
          "2020-10-25",
          "2020-10-29",
          "2020-11-01",
          "2020-11-02",
          "2020-11-07",
          "2020-11-13",
          "2020-11-16",
          "2020-11-20",
          "2020-11-25",
          "2020-11-30",
          "2020-12-06",
          "2020-12-12",
          "2020-12-13",
          "2020-12-18",
          "2020-12-20",
          "2020-12-26",
          "2020-12-27",
          "2020-12-31",
          "2021-01-04",
          "2021-01-09",
          "2021-01-11",
          "2021-01-13",
          "2021-01-17",
          "2021-01-27",
          "2021-01-29",
          "2021-02-01",
          "2021-02-05",
          "2021-02-07",
          "2021-02-12",
          "2021-02-15",
          "2021-02-18",
          "2021-02-22",
          "2021-02-28",
          "2021-03-01",
          "2021-03-04",
          "2021-03-13",
          "2021-03-14",
          "2021-03-20",
          "2021-03-21",
          "2021-03-25",
          "2021-03-29",
          "2021-03-31",
          "2021-04-10",
          "2021-04-12",
          "2021-04-17",
          "2021-04-18",
          "2021-04-24",
          "2021-04-25",
          "2021-04-29",
          "2021-05-01",
          "2021-05-09",
          "2021-05-14",
          "2021-05-17",
          "2021-05-20",
          "2021-05-24",
          "2021-05-29",
          "2021-06-03",
          "2021-06-06",
          "2021-06-12",
          "2021-06-14",
          "2021-06-16",
          "2021-06-20",
          "2021-06-25",
          "2021-06-27",
          "2021-06-30",
          "2021-07-04",
          "2021-07-09",
          "2021-07-11",
          "2021-07-15",
          "2021-07-18",
          "2021-07-20",
          "2021-07-23",
          "2021-07-25",
          "2021-07-28",
          "2021-07-31",
          "2021-08-03",
          "2021-08-07",
          "2021-08-08",
          "2021-08-11",
          "2021-08-14",
          "2021-08-21",
          "2021-08-23",
          "2021-08-27",
          "2021-08-29",
          "2021-09-01",
          "2021-09-03",
          "2021-09-06",
          "2021-09-09",
          "2021-09-11",
          "2021-09-15",
          "2021-09-19",
          "2021-09-20",
          "2021-09-22",
          "2021-09-26",
          "2021-09-27",
          "2021-09-30",
          "2021-10-05",
          "2021-10-10",
          "2021-10-14",
          "2021-10-16",
          "2021-10-20",
          "2021-10-23",
          "2021-10-26",
          "2021-10-29",
          "2021-10-31",
          "2021-11-03",
          "2021-11-05",
          "2021-11-08",
          "2021-11-11",
          "2021-11-16",
          "2021-11-20",
          "2021-11-23",
          "2021-11-28",
          "2021-11-30",
          "2021-12-03",
          "2021-12-08",
          "2021-12-12",
          "2021-12-18",
          "2021-12-23",
          "2021-12-25",
          "2021-12-28",
          "2021-12-31",
          "2022-01-04",
          "2022-01-08",
          "2022-01-15",
          "2022-01-18",
          "2022-01-22",
          "2022-01-26",
          "2022-01-30",
          "2022-02-03",
          "2022-02-06",
          "2022-02-11",
          "2022-02-13",
          "2022-02-16",
          "2022-02-20",
          "2022-02-26",
          "2022-03-11",
          "2022-03-16",
          "2022-03-23",
          "2022-03-27",
          "2022-04-03",
          "2022-04-07",
          "2022-04-10",
          "2022-04-14",
          "2022-04-17",
          "2022-04-20",
          "2022-04-24",
          "2022-04-27",
          "2022-04-29",
          "2022-05-11",
          "2022-05-14",
          "2022-05-17",
          "2022-05-23",
          "2022-05-25",
          "2022-05-30",
          "2022-06-09",
          "2022-06-12",
          "2022-06-15",
          "2022-06-17",
          "2022-06-21",
          "2022-06-25",
          "2022-06-28",
          "2022-07-01",
          "2022-07-04",
          "2022-07-09",
          "2022-07-14",
          "2022-07-17",
          "2022-07-20",
          "2022-07-23",
          "2022-07-26",
          "2022-07-29",
          "2022-08-01",
          "2022-08-04",
          "2022-08-08",
          "2022-08-13",
          "2022-08-16",
          "2022-08-19",
          "2022-08-24",
          "2022-08-27",
          "2022-08-31",
          "2022-09-04",
          "2022-09-07",
          "2022-09-09",
          "2022-09-14",
          "2022-09-17",
          "2022-09-21",
          "2022-09-24",
          "2022-09-27",
          "2022-10-01",
          "2022-10-05",
          "2022-10-07",
          "2022-10-10"
         ],
         "xaxis": "x",
         "y": [
          231358,
          190640,
          88726,
          104517,
          58452,
          227015,
          45775,
          111652,
          159418,
          54332,
          104495,
          40835,
          51093,
          33421,
          33603,
          719138,
          82370,
          1926631,
          199228,
          65877,
          125201,
          32186,
          18190,
          25534,
          301423,
          189692,
          176178,
          30837,
          42223,
          33782,
          749224,
          29530,
          35268,
          19557,
          113107,
          144734,
          39480,
          146144,
          25033,
          29686,
          677977,
          70455,
          70425,
          60460,
          3243193,
          443464,
          729793,
          632191,
          2175221,
          38732,
          52075,
          180398,
          411351,
          373525,
          343566,
          87343,
          52186,
          330058,
          64389,
          657201,
          78815,
          296400,
          615609,
          358398,
          319126,
          25099,
          134660,
          47289,
          388924,
          525467,
          44719,
          185227,
          394175,
          143999,
          87943,
          96688,
          132197,
          48566,
          163309,
          2009490,
          63396,
          71301,
          740864,
          30379,
          1481332,
          319239,
          1318461,
          1082211,
          872694,
          63086,
          700182,
          226586,
          85036,
          157111,
          63265,
          89892,
          40764,
          93764,
          116757,
          1451777,
          75373,
          501910,
          117540,
          42118,
          151547,
          74909,
          85245,
          285778,
          53236,
          130048,
          224650,
          349209,
          106110,
          109818,
          416149,
          854143,
          229292,
          143331,
          218725,
          260714,
          6202719,
          492308,
          392427,
          873321,
          287390,
          2961346,
          1049245,
          300953,
          132571,
          396834,
          947879,
          186603,
          1739844,
          136839,
          4228479,
          2711819,
          264518,
          1664270,
          168116,
          143033,
          168883,
          86636,
          88666,
          1211541,
          151220,
          95282,
          154461,
          900762,
          1612127,
          71508,
          150508,
          112532,
          3334168,
          1309147,
          201313,
          1859737,
          403545,
          278303,
          227519,
          708601,
          309538,
          680424,
          1044819,
          1847699,
          206848,
          1050294,
          1463944,
          481183,
          235416,
          178107,
          637099,
          72735,
          560913,
          274348,
          287019,
          411508,
          105590,
          466859,
          961021,
          345457,
          726848,
          1420606,
          206546,
          494749,
          3971978,
          189181,
          737414,
          4386790,
          525649,
          183333,
          434253,
          722602,
          167580,
          2453626,
          471273,
          1182893,
          810869,
          848021,
          1711658,
          1253755,
          1451684,
          182678,
          133612,
          271136,
          107310,
          113635,
          205032,
          262297,
          115937,
          327999,
          422643,
          1275540,
          271554,
          157773,
          125168,
          598642,
          145987,
          487248,
          184879,
          93843,
          115794,
          146935,
          242158,
          374856,
          492974,
          131351,
          843245,
          340871,
          368949,
          159072,
          314689,
          934077,
          279845,
          1630080,
          58084,
          94440,
          542367,
          159290,
          801139,
          1056836,
          237437,
          186919,
          225328,
          200857,
          50304,
          260934,
          459963,
          1071023,
          353608,
          467013,
          1740540,
          6072301,
          1330274,
          421418,
          462595,
          723041,
          1442127,
          321845,
          106923,
          1036093,
          208790,
          2148144,
          863924,
          578970,
          447740,
          746687,
          3640050,
          745085,
          318594,
          428245,
          1447803,
          182598,
          333731,
          1021797,
          4047304,
          886624,
          110267,
          734535,
          138980,
          1403825,
          461788,
          207411,
          2534990,
          209594,
          1319212,
          263421,
          559706,
          3311571,
          377191,
          1178334,
          1579852,
          362830,
          390397,
          965450,
          5445731,
          2403957,
          1027831,
          748603,
          488621,
          1139118,
          194150,
          436381,
          1391167,
          967101,
          2693401,
          287169,
          1266128,
          2640820,
          980260,
          787531,
          654388,
          565767,
          573921,
          465145,
          539936,
          458329,
          147258,
          208927,
          466285,
          664082,
          235480,
          351784,
          181424
         ],
         "yaxis": "y"
        }
       ],
       "layout": {
        "legend": {
         "tracegroupgap": 0
        },
        "template": {
         "data": {
          "bar": [
           {
            "error_x": {
             "color": "#2a3f5f"
            },
            "error_y": {
             "color": "#2a3f5f"
            },
            "marker": {
             "line": {
              "color": "#E5ECF6",
              "width": 0.5
             },
             "pattern": {
              "fillmode": "overlay",
              "size": 10,
              "solidity": 0.2
             }
            },
            "type": "bar"
           }
          ],
          "barpolar": [
           {
            "marker": {
             "line": {
              "color": "#E5ECF6",
              "width": 0.5
             },
             "pattern": {
              "fillmode": "overlay",
              "size": 10,
              "solidity": 0.2
             }
            },
            "type": "barpolar"
           }
          ],
          "carpet": [
           {
            "aaxis": {
             "endlinecolor": "#2a3f5f",
             "gridcolor": "white",
             "linecolor": "white",
             "minorgridcolor": "white",
             "startlinecolor": "#2a3f5f"
            },
            "baxis": {
             "endlinecolor": "#2a3f5f",
             "gridcolor": "white",
             "linecolor": "white",
             "minorgridcolor": "white",
             "startlinecolor": "#2a3f5f"
            },
            "type": "carpet"
           }
          ],
          "choropleth": [
           {
            "colorbar": {
             "outlinewidth": 0,
             "ticks": ""
            },
            "type": "choropleth"
           }
          ],
          "contour": [
           {
            "colorbar": {
             "outlinewidth": 0,
             "ticks": ""
            },
            "colorscale": [
             [
              0,
              "#0d0887"
             ],
             [
              0.1111111111111111,
              "#46039f"
             ],
             [
              0.2222222222222222,
              "#7201a8"
             ],
             [
              0.3333333333333333,
              "#9c179e"
             ],
             [
              0.4444444444444444,
              "#bd3786"
             ],
             [
              0.5555555555555556,
              "#d8576b"
             ],
             [
              0.6666666666666666,
              "#ed7953"
             ],
             [
              0.7777777777777778,
              "#fb9f3a"
             ],
             [
              0.8888888888888888,
              "#fdca26"
             ],
             [
              1,
              "#f0f921"
             ]
            ],
            "type": "contour"
           }
          ],
          "contourcarpet": [
           {
            "colorbar": {
             "outlinewidth": 0,
             "ticks": ""
            },
            "type": "contourcarpet"
           }
          ],
          "heatmap": [
           {
            "colorbar": {
             "outlinewidth": 0,
             "ticks": ""
            },
            "colorscale": [
             [
              0,
              "#0d0887"
             ],
             [
              0.1111111111111111,
              "#46039f"
             ],
             [
              0.2222222222222222,
              "#7201a8"
             ],
             [
              0.3333333333333333,
              "#9c179e"
             ],
             [
              0.4444444444444444,
              "#bd3786"
             ],
             [
              0.5555555555555556,
              "#d8576b"
             ],
             [
              0.6666666666666666,
              "#ed7953"
             ],
             [
              0.7777777777777778,
              "#fb9f3a"
             ],
             [
              0.8888888888888888,
              "#fdca26"
             ],
             [
              1,
              "#f0f921"
             ]
            ],
            "type": "heatmap"
           }
          ],
          "heatmapgl": [
           {
            "colorbar": {
             "outlinewidth": 0,
             "ticks": ""
            },
            "colorscale": [
             [
              0,
              "#0d0887"
             ],
             [
              0.1111111111111111,
              "#46039f"
             ],
             [
              0.2222222222222222,
              "#7201a8"
             ],
             [
              0.3333333333333333,
              "#9c179e"
             ],
             [
              0.4444444444444444,
              "#bd3786"
             ],
             [
              0.5555555555555556,
              "#d8576b"
             ],
             [
              0.6666666666666666,
              "#ed7953"
             ],
             [
              0.7777777777777778,
              "#fb9f3a"
             ],
             [
              0.8888888888888888,
              "#fdca26"
             ],
             [
              1,
              "#f0f921"
             ]
            ],
            "type": "heatmapgl"
           }
          ],
          "histogram": [
           {
            "marker": {
             "pattern": {
              "fillmode": "overlay",
              "size": 10,
              "solidity": 0.2
             }
            },
            "type": "histogram"
           }
          ],
          "histogram2d": [
           {
            "colorbar": {
             "outlinewidth": 0,
             "ticks": ""
            },
            "colorscale": [
             [
              0,
              "#0d0887"
             ],
             [
              0.1111111111111111,
              "#46039f"
             ],
             [
              0.2222222222222222,
              "#7201a8"
             ],
             [
              0.3333333333333333,
              "#9c179e"
             ],
             [
              0.4444444444444444,
              "#bd3786"
             ],
             [
              0.5555555555555556,
              "#d8576b"
             ],
             [
              0.6666666666666666,
              "#ed7953"
             ],
             [
              0.7777777777777778,
              "#fb9f3a"
             ],
             [
              0.8888888888888888,
              "#fdca26"
             ],
             [
              1,
              "#f0f921"
             ]
            ],
            "type": "histogram2d"
           }
          ],
          "histogram2dcontour": [
           {
            "colorbar": {
             "outlinewidth": 0,
             "ticks": ""
            },
            "colorscale": [
             [
              0,
              "#0d0887"
             ],
             [
              0.1111111111111111,
              "#46039f"
             ],
             [
              0.2222222222222222,
              "#7201a8"
             ],
             [
              0.3333333333333333,
              "#9c179e"
             ],
             [
              0.4444444444444444,
              "#bd3786"
             ],
             [
              0.5555555555555556,
              "#d8576b"
             ],
             [
              0.6666666666666666,
              "#ed7953"
             ],
             [
              0.7777777777777778,
              "#fb9f3a"
             ],
             [
              0.8888888888888888,
              "#fdca26"
             ],
             [
              1,
              "#f0f921"
             ]
            ],
            "type": "histogram2dcontour"
           }
          ],
          "mesh3d": [
           {
            "colorbar": {
             "outlinewidth": 0,
             "ticks": ""
            },
            "type": "mesh3d"
           }
          ],
          "parcoords": [
           {
            "line": {
             "colorbar": {
              "outlinewidth": 0,
              "ticks": ""
             }
            },
            "type": "parcoords"
           }
          ],
          "pie": [
           {
            "automargin": true,
            "type": "pie"
           }
          ],
          "scatter": [
           {
            "fillpattern": {
             "fillmode": "overlay",
             "size": 10,
             "solidity": 0.2
            },
            "type": "scatter"
           }
          ],
          "scatter3d": [
           {
            "line": {
             "colorbar": {
              "outlinewidth": 0,
              "ticks": ""
             }
            },
            "marker": {
             "colorbar": {
              "outlinewidth": 0,
              "ticks": ""
             }
            },
            "type": "scatter3d"
           }
          ],
          "scattercarpet": [
           {
            "marker": {
             "colorbar": {
              "outlinewidth": 0,
              "ticks": ""
             }
            },
            "type": "scattercarpet"
           }
          ],
          "scattergeo": [
           {
            "marker": {
             "colorbar": {
              "outlinewidth": 0,
              "ticks": ""
             }
            },
            "type": "scattergeo"
           }
          ],
          "scattergl": [
           {
            "marker": {
             "colorbar": {
              "outlinewidth": 0,
              "ticks": ""
             }
            },
            "type": "scattergl"
           }
          ],
          "scattermapbox": [
           {
            "marker": {
             "colorbar": {
              "outlinewidth": 0,
              "ticks": ""
             }
            },
            "type": "scattermapbox"
           }
          ],
          "scatterpolar": [
           {
            "marker": {
             "colorbar": {
              "outlinewidth": 0,
              "ticks": ""
             }
            },
            "type": "scatterpolar"
           }
          ],
          "scatterpolargl": [
           {
            "marker": {
             "colorbar": {
              "outlinewidth": 0,
              "ticks": ""
             }
            },
            "type": "scatterpolargl"
           }
          ],
          "scatterternary": [
           {
            "marker": {
             "colorbar": {
              "outlinewidth": 0,
              "ticks": ""
             }
            },
            "type": "scatterternary"
           }
          ],
          "surface": [
           {
            "colorbar": {
             "outlinewidth": 0,
             "ticks": ""
            },
            "colorscale": [
             [
              0,
              "#0d0887"
             ],
             [
              0.1111111111111111,
              "#46039f"
             ],
             [
              0.2222222222222222,
              "#7201a8"
             ],
             [
              0.3333333333333333,
              "#9c179e"
             ],
             [
              0.4444444444444444,
              "#bd3786"
             ],
             [
              0.5555555555555556,
              "#d8576b"
             ],
             [
              0.6666666666666666,
              "#ed7953"
             ],
             [
              0.7777777777777778,
              "#fb9f3a"
             ],
             [
              0.8888888888888888,
              "#fdca26"
             ],
             [
              1,
              "#f0f921"
             ]
            ],
            "type": "surface"
           }
          ],
          "table": [
           {
            "cells": {
             "fill": {
              "color": "#EBF0F8"
             },
             "line": {
              "color": "white"
             }
            },
            "header": {
             "fill": {
              "color": "#C8D4E3"
             },
             "line": {
              "color": "white"
             }
            },
            "type": "table"
           }
          ]
         },
         "layout": {
          "annotationdefaults": {
           "arrowcolor": "#2a3f5f",
           "arrowhead": 0,
           "arrowwidth": 1
          },
          "autotypenumbers": "strict",
          "coloraxis": {
           "colorbar": {
            "outlinewidth": 0,
            "ticks": ""
           }
          },
          "colorscale": {
           "diverging": [
            [
             0,
             "#8e0152"
            ],
            [
             0.1,
             "#c51b7d"
            ],
            [
             0.2,
             "#de77ae"
            ],
            [
             0.3,
             "#f1b6da"
            ],
            [
             0.4,
             "#fde0ef"
            ],
            [
             0.5,
             "#f7f7f7"
            ],
            [
             0.6,
             "#e6f5d0"
            ],
            [
             0.7,
             "#b8e186"
            ],
            [
             0.8,
             "#7fbc41"
            ],
            [
             0.9,
             "#4d9221"
            ],
            [
             1,
             "#276419"
            ]
           ],
           "sequential": [
            [
             0,
             "#0d0887"
            ],
            [
             0.1111111111111111,
             "#46039f"
            ],
            [
             0.2222222222222222,
             "#7201a8"
            ],
            [
             0.3333333333333333,
             "#9c179e"
            ],
            [
             0.4444444444444444,
             "#bd3786"
            ],
            [
             0.5555555555555556,
             "#d8576b"
            ],
            [
             0.6666666666666666,
             "#ed7953"
            ],
            [
             0.7777777777777778,
             "#fb9f3a"
            ],
            [
             0.8888888888888888,
             "#fdca26"
            ],
            [
             1,
             "#f0f921"
            ]
           ],
           "sequentialminus": [
            [
             0,
             "#0d0887"
            ],
            [
             0.1111111111111111,
             "#46039f"
            ],
            [
             0.2222222222222222,
             "#7201a8"
            ],
            [
             0.3333333333333333,
             "#9c179e"
            ],
            [
             0.4444444444444444,
             "#bd3786"
            ],
            [
             0.5555555555555556,
             "#d8576b"
            ],
            [
             0.6666666666666666,
             "#ed7953"
            ],
            [
             0.7777777777777778,
             "#fb9f3a"
            ],
            [
             0.8888888888888888,
             "#fdca26"
            ],
            [
             1,
             "#f0f921"
            ]
           ]
          },
          "colorway": [
           "#636efa",
           "#EF553B",
           "#00cc96",
           "#ab63fa",
           "#FFA15A",
           "#19d3f3",
           "#FF6692",
           "#B6E880",
           "#FF97FF",
           "#FECB52"
          ],
          "font": {
           "color": "#2a3f5f"
          },
          "geo": {
           "bgcolor": "white",
           "lakecolor": "white",
           "landcolor": "#E5ECF6",
           "showlakes": true,
           "showland": true,
           "subunitcolor": "white"
          },
          "hoverlabel": {
           "align": "left"
          },
          "hovermode": "closest",
          "mapbox": {
           "style": "light"
          },
          "paper_bgcolor": "white",
          "plot_bgcolor": "#E5ECF6",
          "polar": {
           "angularaxis": {
            "gridcolor": "white",
            "linecolor": "white",
            "ticks": ""
           },
           "bgcolor": "#E5ECF6",
           "radialaxis": {
            "gridcolor": "white",
            "linecolor": "white",
            "ticks": ""
           }
          },
          "scene": {
           "xaxis": {
            "backgroundcolor": "#E5ECF6",
            "gridcolor": "white",
            "gridwidth": 2,
            "linecolor": "white",
            "showbackground": true,
            "ticks": "",
            "zerolinecolor": "white"
           },
           "yaxis": {
            "backgroundcolor": "#E5ECF6",
            "gridcolor": "white",
            "gridwidth": 2,
            "linecolor": "white",
            "showbackground": true,
            "ticks": "",
            "zerolinecolor": "white"
           },
           "zaxis": {
            "backgroundcolor": "#E5ECF6",
            "gridcolor": "white",
            "gridwidth": 2,
            "linecolor": "white",
            "showbackground": true,
            "ticks": "",
            "zerolinecolor": "white"
           }
          },
          "shapedefaults": {
           "line": {
            "color": "#2a3f5f"
           }
          },
          "ternary": {
           "aaxis": {
            "gridcolor": "white",
            "linecolor": "white",
            "ticks": ""
           },
           "baxis": {
            "gridcolor": "white",
            "linecolor": "white",
            "ticks": ""
           },
           "bgcolor": "#E5ECF6",
           "caxis": {
            "gridcolor": "white",
            "linecolor": "white",
            "ticks": ""
           }
          },
          "title": {
           "x": 0.05
          },
          "xaxis": {
           "automargin": true,
           "gridcolor": "white",
           "linecolor": "white",
           "ticks": "",
           "title": {
            "standoff": 15
           },
           "zerolinecolor": "white",
           "zerolinewidth": 2
          },
          "yaxis": {
           "automargin": true,
           "gridcolor": "white",
           "linecolor": "white",
           "ticks": "",
           "title": {
            "standoff": 15
           },
           "zerolinecolor": "white",
           "zerolinewidth": 2
          }
         }
        },
        "title": {
         "text": "Views Over the Years"
        },
        "xaxis": {
         "anchor": "y",
         "domain": [
          0,
          1
         ],
         "title": {
          "text": "Date"
         }
        },
        "yaxis": {
         "anchor": "x",
         "domain": [
          0,
          1
         ],
         "title": {
          "text": "Views"
         }
        }
       }
      }
     },
     "metadata": {},
     "output_type": "display_data"
    }
   ],
   "source": [
    "fig = px.line(lexcast_df, x=\"Date\", y=\"Views\", title='Views Over the Years')\n",
    "fig"
   ]
  },
  {
   "cell_type": "code",
   "execution_count": 240,
   "metadata": {},
   "outputs": [
    {
     "name": "stdout",
     "output_type": "stream",
     "text": [
      "717.0\n",
      "02:13:09\n"
     ]
    }
   ],
   "source": [
    "total_podcast_hrs= lexcast_df[\"Length\"].sum() / 3600\n",
    "\n",
    "avg_length = lexcast_df[\"Length\"].sum() / lexcast_df[\"Length\"].count()\n",
    "avg_length = time.strftime(\"%H:%M:%S\", time.gmtime(avg_length))\n",
    "\n",
    "print(total_podcast_hrs.round())\n",
    "print(avg_length)"
   ]
  },
  {
   "cell_type": "markdown",
   "metadata": {},
   "source": [
    "More than <font size=10>700+</font> hours of Podcast \n",
    "And averge length of a podcast is <font size=10>02:13:09</font> (Data untill October 2022)"
   ]
  },
  {
   "cell_type": "code",
   "execution_count": 241,
   "metadata": {},
   "outputs": [
    {
     "data": {
      "text/html": [
       "<div>\n",
       "<style scoped>\n",
       "    .dataframe tbody tr th:only-of-type {\n",
       "        vertical-align: middle;\n",
       "    }\n",
       "\n",
       "    .dataframe tbody tr th {\n",
       "        vertical-align: top;\n",
       "    }\n",
       "\n",
       "    .dataframe thead th {\n",
       "        text-align: right;\n",
       "    }\n",
       "</style>\n",
       "<table border=\"1\" class=\"dataframe\">\n",
       "  <thead>\n",
       "    <tr style=\"text-align: right;\">\n",
       "      <th></th>\n",
       "      <th>Title</th>\n",
       "      <th>Date</th>\n",
       "      <th>Length</th>\n",
       "      <th>Views</th>\n",
       "      <th>Guest Name</th>\n",
       "      <th>Podcast Number</th>\n",
       "      <th>Topics Discussed</th>\n",
       "      <th>Length(hh:mm:ss)</th>\n",
       "    </tr>\n",
       "  </thead>\n",
       "  <tbody>\n",
       "    <tr>\n",
       "      <th>120</th>\n",
       "      <td>David Fravor: UFOs, Aliens, Fighter Jets, and ...</td>\n",
       "      <td>2020-09-08</td>\n",
       "      <td>14184</td>\n",
       "      <td>6202719</td>\n",
       "      <td>David Fravor</td>\n",
       "      <td>122</td>\n",
       "      <td>[UFOs, Aliens, Fighter Jets, Aerospace Enginee...</td>\n",
       "      <td>03:56:24</td>\n",
       "    </tr>\n",
       "    <tr>\n",
       "      <th>251</th>\n",
       "      <td>Elon Musk: SpaceX, Mars, Tesla Autopilot, Self...</td>\n",
       "      <td>2021-12-28</td>\n",
       "      <td>9108</td>\n",
       "      <td>6072301</td>\n",
       "      <td>Elon Musk</td>\n",
       "      <td>252</td>\n",
       "      <td>[SpaceX, Mars, Tesla Autopilot, Self-Driving, ...</td>\n",
       "      <td>02:31:48</td>\n",
       "    </tr>\n",
       "    <tr>\n",
       "      <th>294</th>\n",
       "      <td>Joe Rogan: Comedy, Controversy, Aliens, UFOs, ...</td>\n",
       "      <td>2022-07-04</td>\n",
       "      <td>6081</td>\n",
       "      <td>5445731</td>\n",
       "      <td>Joe Rogan</td>\n",
       "      <td>300</td>\n",
       "      <td>[Comedy, Controversy, Aliens, UFOs, Putin, CIA...</td>\n",
       "      <td>01:41:21</td>\n",
       "    </tr>\n",
       "    <tr>\n",
       "      <th>187</th>\n",
       "      <td>Vitalik Buterin: Ethereum 2.0 | Lex Fridman Po...</td>\n",
       "      <td>2021-06-03</td>\n",
       "      <td>10920</td>\n",
       "      <td>4386790</td>\n",
       "      <td>Vitalik Buterin</td>\n",
       "      <td>188</td>\n",
       "      <td>[Ereum 2.0]</td>\n",
       "      <td>03:02:00</td>\n",
       "    </tr>\n",
       "    <tr>\n",
       "      <th>134</th>\n",
       "      <td>Dan Carlin: Hardcore History | Lex Fridman Pod...</td>\n",
       "      <td>2020-11-02</td>\n",
       "      <td>12085</td>\n",
       "      <td>4228479</td>\n",
       "      <td>Dan Carlin</td>\n",
       "      <td>136</td>\n",
       "      <td>[Hardcore History]</td>\n",
       "      <td>03:21:25</td>\n",
       "    </tr>\n",
       "    <tr>\n",
       "      <th>274</th>\n",
       "      <td>Michael Saylor: Bitcoin, Inflation, and the Fu...</td>\n",
       "      <td>2022-04-14</td>\n",
       "      <td>14214</td>\n",
       "      <td>4047304</td>\n",
       "      <td>Michael Saylor</td>\n",
       "      <td>276</td>\n",
       "      <td>[Bitcoin, Inflation, Future of Money]</td>\n",
       "      <td>03:56:54</td>\n",
       "    </tr>\n",
       "    <tr>\n",
       "      <th>184</th>\n",
       "      <td>Sam Harris: Consciousness, Free Will, Psychede...</td>\n",
       "      <td>2021-05-20</td>\n",
       "      <td>11840</td>\n",
       "      <td>3971978</td>\n",
       "      <td>Sam Harris</td>\n",
       "      <td>185</td>\n",
       "      <td>[Consciousness, Free Will, Psychedelics, AI, U...</td>\n",
       "      <td>03:17:20</td>\n",
       "    </tr>\n",
       "    <tr>\n",
       "      <th>266</th>\n",
       "      <td>Mark Zuckerberg: Meta, Facebook, Instagram, an...</td>\n",
       "      <td>2022-02-26</td>\n",
       "      <td>7213</td>\n",
       "      <td>3640050</td>\n",
       "      <td>Mark Zuckerberg</td>\n",
       "      <td>267</td>\n",
       "      <td>[Meta, Facebook, Instagram, Metaverse]</td>\n",
       "      <td>02:00:13</td>\n",
       "    </tr>\n",
       "    <tr>\n",
       "      <th>152</th>\n",
       "      <td>Avi Loeb: Aliens, Black Holes, and the Mystery...</td>\n",
       "      <td>2021-01-13</td>\n",
       "      <td>9831</td>\n",
       "      <td>3334168</td>\n",
       "      <td>Avi Loeb</td>\n",
       "      <td>154</td>\n",
       "      <td>[Aliens, Black Holes, Mystery of  Oumuamua]</td>\n",
       "      <td>02:43:51</td>\n",
       "    </tr>\n",
       "    <tr>\n",
       "      <th>287</th>\n",
       "      <td>Donald Hoffman: Reality is an Illusion - How E...</td>\n",
       "      <td>2022-06-12</td>\n",
       "      <td>11776</td>\n",
       "      <td>3311571</td>\n",
       "      <td>Donald Hoffman</td>\n",
       "      <td>293</td>\n",
       "      <td>[Reality is an Illusion - How Evolution Hid  T...</td>\n",
       "      <td>03:16:16</td>\n",
       "    </tr>\n",
       "    <tr>\n",
       "      <th>44</th>\n",
       "      <td>Michio Kaku: Future of Humans, Aliens, Space T...</td>\n",
       "      <td>2019-10-22</td>\n",
       "      <td>3660</td>\n",
       "      <td>3243193</td>\n",
       "      <td>Michio Kaku</td>\n",
       "      <td>45</td>\n",
       "      <td>[Future of Humans, Aliens, Space Travel &amp; Phys...</td>\n",
       "      <td>01:01:00</td>\n",
       "    </tr>\n",
       "    <tr>\n",
       "      <th>125</th>\n",
       "      <td>Joe Rogan: Fear, Love, Chaos, and the Joe Roga...</td>\n",
       "      <td>2020-09-26</td>\n",
       "      <td>4564</td>\n",
       "      <td>2961346</td>\n",
       "      <td>Joe Rogan</td>\n",
       "      <td>127</td>\n",
       "      <td>[Fear, Love, Chaos, Joe Rogan Experience]</td>\n",
       "      <td>01:16:04</td>\n",
       "    </tr>\n",
       "    <tr>\n",
       "      <th>135</th>\n",
       "      <td>Alex Filippenko: Supernovae, Dark Energy, Alie...</td>\n",
       "      <td>2020-11-07</td>\n",
       "      <td>9347</td>\n",
       "      <td>2711819</td>\n",
       "      <td>Alex Filippenko</td>\n",
       "      <td>137</td>\n",
       "      <td>[Supernovae, Dark Energy, Aliens &amp;  Exping Uni...</td>\n",
       "      <td>02:35:47</td>\n",
       "    </tr>\n",
       "    <tr>\n",
       "      <th>304</th>\n",
       "      <td>Andrew Bustamante: CIA Spy | Lex Fridman Podca...</td>\n",
       "      <td>2022-08-08</td>\n",
       "      <td>13989</td>\n",
       "      <td>2693401</td>\n",
       "      <td>Andrew Bustamante</td>\n",
       "      <td>310</td>\n",
       "      <td>[CIA Spy]</td>\n",
       "      <td>03:53:09</td>\n",
       "    </tr>\n",
       "    <tr>\n",
       "      <th>307</th>\n",
       "      <td>Jordan Peterson: Life, Death, Power, Fame, and...</td>\n",
       "      <td>2022-08-19</td>\n",
       "      <td>11013</td>\n",
       "      <td>2640820</td>\n",
       "      <td>Jordan Peterson</td>\n",
       "      <td>313</td>\n",
       "      <td>[Life, Death, Power, Fame, Meaning]</td>\n",
       "      <td>03:03:33</td>\n",
       "    </tr>\n",
       "    <tr>\n",
       "      <th>282</th>\n",
       "      <td>Oliver Stone: Vladimir Putin and War in Ukrain...</td>\n",
       "      <td>2022-05-17</td>\n",
       "      <td>6759</td>\n",
       "      <td>2534990</td>\n",
       "      <td>Oliver Stone</td>\n",
       "      <td>286</td>\n",
       "      <td>[Vladimir Putin  War in Ukraine]</td>\n",
       "      <td>01:52:39</td>\n",
       "    </tr>\n",
       "    <tr>\n",
       "      <th>193</th>\n",
       "      <td>Bret Weinstein: Truth, Science, and Censorship...</td>\n",
       "      <td>2021-06-25</td>\n",
       "      <td>11829</td>\n",
       "      <td>2453626</td>\n",
       "      <td>Bret Weinstein</td>\n",
       "      <td>194</td>\n",
       "      <td>[Truth, Science, Censorship in  Time of a Pemic]</td>\n",
       "      <td>03:17:09</td>\n",
       "    </tr>\n",
       "    <tr>\n",
       "      <th>295</th>\n",
       "      <td>Jack Barsky: KGB Spy | Lex Fridman Podcast #301</td>\n",
       "      <td>2022-07-09</td>\n",
       "      <td>13054</td>\n",
       "      <td>2403957</td>\n",
       "      <td>Jack Barsky</td>\n",
       "      <td>301</td>\n",
       "      <td>[KGB Spy]</td>\n",
       "      <td>03:37:34</td>\n",
       "    </tr>\n",
       "    <tr>\n",
       "      <th>48</th>\n",
       "      <td>Elon Musk: Neuralink, AI, Autopilot, and the P...</td>\n",
       "      <td>2019-11-12</td>\n",
       "      <td>2170</td>\n",
       "      <td>2175221</td>\n",
       "      <td>Elon Musk</td>\n",
       "      <td>49</td>\n",
       "      <td>[Neuralink, AI, Autopilot, Pale Blue Dot]</td>\n",
       "      <td>00:36:10</td>\n",
       "    </tr>\n",
       "    <tr>\n",
       "      <th>261</th>\n",
       "      <td>Garry Nolan: UFOs and Aliens | Lex Fridman Pod...</td>\n",
       "      <td>2022-02-06</td>\n",
       "      <td>6178</td>\n",
       "      <td>2148144</td>\n",
       "      <td>Garry Nolan</td>\n",
       "      <td>262</td>\n",
       "      <td>[UFOs  Aliens]</td>\n",
       "      <td>01:42:58</td>\n",
       "    </tr>\n",
       "  </tbody>\n",
       "</table>\n",
       "</div>"
      ],
      "text/plain": [
       "                                                 Title        Date  Length  \\\n",
       "120  David Fravor: UFOs, Aliens, Fighter Jets, and ...  2020-09-08   14184   \n",
       "251  Elon Musk: SpaceX, Mars, Tesla Autopilot, Self...  2021-12-28    9108   \n",
       "294  Joe Rogan: Comedy, Controversy, Aliens, UFOs, ...  2022-07-04    6081   \n",
       "187  Vitalik Buterin: Ethereum 2.0 | Lex Fridman Po...  2021-06-03   10920   \n",
       "134  Dan Carlin: Hardcore History | Lex Fridman Pod...  2020-11-02   12085   \n",
       "274  Michael Saylor: Bitcoin, Inflation, and the Fu...  2022-04-14   14214   \n",
       "184  Sam Harris: Consciousness, Free Will, Psychede...  2021-05-20   11840   \n",
       "266  Mark Zuckerberg: Meta, Facebook, Instagram, an...  2022-02-26    7213   \n",
       "152  Avi Loeb: Aliens, Black Holes, and the Mystery...  2021-01-13    9831   \n",
       "287  Donald Hoffman: Reality is an Illusion - How E...  2022-06-12   11776   \n",
       "44   Michio Kaku: Future of Humans, Aliens, Space T...  2019-10-22    3660   \n",
       "125  Joe Rogan: Fear, Love, Chaos, and the Joe Roga...  2020-09-26    4564   \n",
       "135  Alex Filippenko: Supernovae, Dark Energy, Alie...  2020-11-07    9347   \n",
       "304  Andrew Bustamante: CIA Spy | Lex Fridman Podca...  2022-08-08   13989   \n",
       "307  Jordan Peterson: Life, Death, Power, Fame, and...  2022-08-19   11013   \n",
       "282  Oliver Stone: Vladimir Putin and War in Ukrain...  2022-05-17    6759   \n",
       "193  Bret Weinstein: Truth, Science, and Censorship...  2021-06-25   11829   \n",
       "295    Jack Barsky: KGB Spy | Lex Fridman Podcast #301  2022-07-09   13054   \n",
       "48   Elon Musk: Neuralink, AI, Autopilot, and the P...  2019-11-12    2170   \n",
       "261  Garry Nolan: UFOs and Aliens | Lex Fridman Pod...  2022-02-06    6178   \n",
       "\n",
       "       Views         Guest Name Podcast Number  \\\n",
       "120  6202719       David Fravor            122   \n",
       "251  6072301          Elon Musk            252   \n",
       "294  5445731          Joe Rogan            300   \n",
       "187  4386790    Vitalik Buterin            188   \n",
       "134  4228479         Dan Carlin            136   \n",
       "274  4047304     Michael Saylor            276   \n",
       "184  3971978         Sam Harris            185   \n",
       "266  3640050    Mark Zuckerberg            267   \n",
       "152  3334168           Avi Loeb            154   \n",
       "287  3311571     Donald Hoffman            293   \n",
       "44   3243193        Michio Kaku             45   \n",
       "125  2961346          Joe Rogan            127   \n",
       "135  2711819    Alex Filippenko            137   \n",
       "304  2693401  Andrew Bustamante            310   \n",
       "307  2640820    Jordan Peterson            313   \n",
       "282  2534990       Oliver Stone            286   \n",
       "193  2453626     Bret Weinstein            194   \n",
       "295  2403957        Jack Barsky            301   \n",
       "48   2175221          Elon Musk             49   \n",
       "261  2148144        Garry Nolan            262   \n",
       "\n",
       "                                      Topics Discussed Length(hh:mm:ss)  \n",
       "120  [UFOs, Aliens, Fighter Jets, Aerospace Enginee...         03:56:24  \n",
       "251  [SpaceX, Mars, Tesla Autopilot, Self-Driving, ...         02:31:48  \n",
       "294  [Comedy, Controversy, Aliens, UFOs, Putin, CIA...         01:41:21  \n",
       "187                                        [Ereum 2.0]         03:02:00  \n",
       "134                                 [Hardcore History]         03:21:25  \n",
       "274              [Bitcoin, Inflation, Future of Money]         03:56:54  \n",
       "184  [Consciousness, Free Will, Psychedelics, AI, U...         03:17:20  \n",
       "266             [Meta, Facebook, Instagram, Metaverse]         02:00:13  \n",
       "152        [Aliens, Black Holes, Mystery of  Oumuamua]         02:43:51  \n",
       "287  [Reality is an Illusion - How Evolution Hid  T...         03:16:16  \n",
       "44   [Future of Humans, Aliens, Space Travel & Phys...         01:01:00  \n",
       "125          [Fear, Love, Chaos, Joe Rogan Experience]         01:16:04  \n",
       "135  [Supernovae, Dark Energy, Aliens &  Exping Uni...         02:35:47  \n",
       "304                                          [CIA Spy]         03:53:09  \n",
       "307                [Life, Death, Power, Fame, Meaning]         03:03:33  \n",
       "282                   [Vladimir Putin  War in Ukraine]         01:52:39  \n",
       "193   [Truth, Science, Censorship in  Time of a Pemic]         03:17:09  \n",
       "295                                          [KGB Spy]         03:37:34  \n",
       "48           [Neuralink, AI, Autopilot, Pale Blue Dot]         00:36:10  \n",
       "261                                     [UFOs  Aliens]         01:42:58  "
      ]
     },
     "execution_count": 241,
     "metadata": {},
     "output_type": "execute_result"
    }
   ],
   "source": [
    "top_lexcast = lexcast_df.sort_values(by=[\"Views\"], ascending=False)\n",
    "top_lexcast = top_lexcast.iloc[0:20]\n",
    "top_lexcast"
   ]
  },
  {
   "cell_type": "code",
   "execution_count": 242,
   "metadata": {},
   "outputs": [
    {
     "data": {
      "application/vnd.plotly.v1+json": {
       "config": {
        "plotlyServerURL": "https://plot.ly"
       },
       "data": [
        {
         "alignmentgroup": "True",
         "cliponaxis": false,
         "customdata": [
          [
           "2020-09-08",
           [
            "UFOs",
            "Aliens",
            "Fighter Jets",
            "Aerospace Engineering"
           ]
          ],
          [
           "2021-12-28",
           [
            "SpaceX",
            "Mars",
            "Tesla Autopilot",
            "Self-Driving",
            "Robotics",
            "AI"
           ]
          ],
          [
           "2022-07-04",
           [
            "Comedy",
            "Controversy",
            "Aliens",
            "UFOs",
            "Putin",
            "CIA",
            "Freedom"
           ]
          ],
          [
           "2021-06-03",
           [
            "Ereum 2.0"
           ]
          ],
          [
           "2020-11-02",
           [
            "Hardcore History"
           ]
          ],
          [
           "2022-04-14",
           [
            "Bitcoin",
            "Inflation",
            "Future of Money"
           ]
          ],
          [
           "2021-05-20",
           [
            "Consciousness",
            "Free Will",
            "Psychedelics",
            "AI",
            "UFOs",
            "Meaning"
           ]
          ],
          [
           "2022-02-26",
           [
            "Meta",
            "Facebook",
            "Instagram",
            "Metaverse"
           ]
          ],
          [
           "2021-01-13",
           [
            "Aliens",
            "Black Holes",
            "Mystery of  Oumuamua"
           ]
          ],
          [
           "2022-06-12",
           [
            "Reality is an Illusion - How Evolution Hid  Truth"
           ]
          ],
          [
           "2019-10-22",
           [
            "Future of Humans",
            "Aliens",
            "Space Travel & Physics"
           ]
          ],
          [
           "2020-09-26",
           [
            "Fear",
            "Love",
            "Chaos",
            "Joe Rogan Experience"
           ]
          ],
          [
           "2020-11-07",
           [
            "Supernovae",
            "Dark Energy",
            "Aliens &  Exping Universe"
           ]
          ],
          [
           "2022-08-08",
           [
            "CIA Spy"
           ]
          ],
          [
           "2022-08-19",
           [
            "Life",
            "Death",
            "Power",
            "Fame",
            "Meaning"
           ]
          ],
          [
           "2022-05-17",
           [
            "Vladimir Putin  War in Ukraine"
           ]
          ],
          [
           "2021-06-25",
           [
            "Truth",
            "Science",
            "Censorship in  Time of a Pemic"
           ]
          ],
          [
           "2022-07-09",
           [
            "KGB Spy"
           ]
          ],
          [
           "2019-11-12",
           [
            "Neuralink",
            "AI",
            "Autopilot",
            "Pale Blue Dot"
           ]
          ],
          [
           "2022-02-06",
           [
            "UFOs  Aliens"
           ]
          ]
         ],
         "hovertemplate": "Guest Name=%{x}<br>Views=%{marker.color}<br>Date=%{customdata[0]}<br>Topics Discussed=%{customdata[1]}<extra></extra>",
         "legendgroup": "",
         "marker": {
          "color": [
           6202719,
           6072301,
           5445731,
           4386790,
           4228479,
           4047304,
           3971978,
           3640050,
           3334168,
           3311571,
           3243193,
           2961346,
           2711819,
           2693401,
           2640820,
           2534990,
           2453626,
           2403957,
           2175221,
           2148144
          ],
          "coloraxis": "coloraxis",
          "pattern": {
           "shape": ""
          }
         },
         "name": "",
         "offsetgroup": "",
         "orientation": "v",
         "showlegend": false,
         "textangle": 1,
         "textfont": {
          "size": 12
         },
         "textposition": "outside",
         "texttemplate": "%{y:.2s}",
         "type": "bar",
         "x": [
          "David Fravor",
          "Elon Musk",
          "Joe Rogan",
          "Vitalik Buterin",
          "Dan Carlin",
          "Michael Saylor",
          "Sam Harris",
          "Mark Zuckerberg",
          "Avi Loeb",
          "Donald Hoffman",
          "Michio Kaku",
          "Joe Rogan",
          "Alex Filippenko",
          "Andrew Bustamante",
          "Jordan Peterson",
          "Oliver Stone",
          "Bret Weinstein",
          "Jack Barsky",
          "Elon Musk",
          "Garry Nolan"
         ],
         "xaxis": "x",
         "y": [
          6202719,
          6072301,
          5445731,
          4386790,
          4228479,
          4047304,
          3971978,
          3640050,
          3334168,
          3311571,
          3243193,
          2961346,
          2711819,
          2693401,
          2640820,
          2534990,
          2453626,
          2403957,
          2175221,
          2148144
         ],
         "yaxis": "y"
        }
       ],
       "layout": {
        "barmode": "relative",
        "coloraxis": {
         "colorbar": {
          "title": {
           "text": "Views"
          }
         },
         "colorscale": [
          [
           0,
           "#0d0887"
          ],
          [
           0.1111111111111111,
           "#46039f"
          ],
          [
           0.2222222222222222,
           "#7201a8"
          ],
          [
           0.3333333333333333,
           "#9c179e"
          ],
          [
           0.4444444444444444,
           "#bd3786"
          ],
          [
           0.5555555555555556,
           "#d8576b"
          ],
          [
           0.6666666666666666,
           "#ed7953"
          ],
          [
           0.7777777777777778,
           "#fb9f3a"
          ],
          [
           0.8888888888888888,
           "#fdca26"
          ],
          [
           1,
           "#f0f921"
          ]
         ]
        },
        "height": 600,
        "legend": {
         "tracegroupgap": 0
        },
        "template": {
         "data": {
          "bar": [
           {
            "error_x": {
             "color": "#2a3f5f"
            },
            "error_y": {
             "color": "#2a3f5f"
            },
            "marker": {
             "line": {
              "color": "#E5ECF6",
              "width": 0.5
             },
             "pattern": {
              "fillmode": "overlay",
              "size": 10,
              "solidity": 0.2
             }
            },
            "type": "bar"
           }
          ],
          "barpolar": [
           {
            "marker": {
             "line": {
              "color": "#E5ECF6",
              "width": 0.5
             },
             "pattern": {
              "fillmode": "overlay",
              "size": 10,
              "solidity": 0.2
             }
            },
            "type": "barpolar"
           }
          ],
          "carpet": [
           {
            "aaxis": {
             "endlinecolor": "#2a3f5f",
             "gridcolor": "white",
             "linecolor": "white",
             "minorgridcolor": "white",
             "startlinecolor": "#2a3f5f"
            },
            "baxis": {
             "endlinecolor": "#2a3f5f",
             "gridcolor": "white",
             "linecolor": "white",
             "minorgridcolor": "white",
             "startlinecolor": "#2a3f5f"
            },
            "type": "carpet"
           }
          ],
          "choropleth": [
           {
            "colorbar": {
             "outlinewidth": 0,
             "ticks": ""
            },
            "type": "choropleth"
           }
          ],
          "contour": [
           {
            "colorbar": {
             "outlinewidth": 0,
             "ticks": ""
            },
            "colorscale": [
             [
              0,
              "#0d0887"
             ],
             [
              0.1111111111111111,
              "#46039f"
             ],
             [
              0.2222222222222222,
              "#7201a8"
             ],
             [
              0.3333333333333333,
              "#9c179e"
             ],
             [
              0.4444444444444444,
              "#bd3786"
             ],
             [
              0.5555555555555556,
              "#d8576b"
             ],
             [
              0.6666666666666666,
              "#ed7953"
             ],
             [
              0.7777777777777778,
              "#fb9f3a"
             ],
             [
              0.8888888888888888,
              "#fdca26"
             ],
             [
              1,
              "#f0f921"
             ]
            ],
            "type": "contour"
           }
          ],
          "contourcarpet": [
           {
            "colorbar": {
             "outlinewidth": 0,
             "ticks": ""
            },
            "type": "contourcarpet"
           }
          ],
          "heatmap": [
           {
            "colorbar": {
             "outlinewidth": 0,
             "ticks": ""
            },
            "colorscale": [
             [
              0,
              "#0d0887"
             ],
             [
              0.1111111111111111,
              "#46039f"
             ],
             [
              0.2222222222222222,
              "#7201a8"
             ],
             [
              0.3333333333333333,
              "#9c179e"
             ],
             [
              0.4444444444444444,
              "#bd3786"
             ],
             [
              0.5555555555555556,
              "#d8576b"
             ],
             [
              0.6666666666666666,
              "#ed7953"
             ],
             [
              0.7777777777777778,
              "#fb9f3a"
             ],
             [
              0.8888888888888888,
              "#fdca26"
             ],
             [
              1,
              "#f0f921"
             ]
            ],
            "type": "heatmap"
           }
          ],
          "heatmapgl": [
           {
            "colorbar": {
             "outlinewidth": 0,
             "ticks": ""
            },
            "colorscale": [
             [
              0,
              "#0d0887"
             ],
             [
              0.1111111111111111,
              "#46039f"
             ],
             [
              0.2222222222222222,
              "#7201a8"
             ],
             [
              0.3333333333333333,
              "#9c179e"
             ],
             [
              0.4444444444444444,
              "#bd3786"
             ],
             [
              0.5555555555555556,
              "#d8576b"
             ],
             [
              0.6666666666666666,
              "#ed7953"
             ],
             [
              0.7777777777777778,
              "#fb9f3a"
             ],
             [
              0.8888888888888888,
              "#fdca26"
             ],
             [
              1,
              "#f0f921"
             ]
            ],
            "type": "heatmapgl"
           }
          ],
          "histogram": [
           {
            "marker": {
             "pattern": {
              "fillmode": "overlay",
              "size": 10,
              "solidity": 0.2
             }
            },
            "type": "histogram"
           }
          ],
          "histogram2d": [
           {
            "colorbar": {
             "outlinewidth": 0,
             "ticks": ""
            },
            "colorscale": [
             [
              0,
              "#0d0887"
             ],
             [
              0.1111111111111111,
              "#46039f"
             ],
             [
              0.2222222222222222,
              "#7201a8"
             ],
             [
              0.3333333333333333,
              "#9c179e"
             ],
             [
              0.4444444444444444,
              "#bd3786"
             ],
             [
              0.5555555555555556,
              "#d8576b"
             ],
             [
              0.6666666666666666,
              "#ed7953"
             ],
             [
              0.7777777777777778,
              "#fb9f3a"
             ],
             [
              0.8888888888888888,
              "#fdca26"
             ],
             [
              1,
              "#f0f921"
             ]
            ],
            "type": "histogram2d"
           }
          ],
          "histogram2dcontour": [
           {
            "colorbar": {
             "outlinewidth": 0,
             "ticks": ""
            },
            "colorscale": [
             [
              0,
              "#0d0887"
             ],
             [
              0.1111111111111111,
              "#46039f"
             ],
             [
              0.2222222222222222,
              "#7201a8"
             ],
             [
              0.3333333333333333,
              "#9c179e"
             ],
             [
              0.4444444444444444,
              "#bd3786"
             ],
             [
              0.5555555555555556,
              "#d8576b"
             ],
             [
              0.6666666666666666,
              "#ed7953"
             ],
             [
              0.7777777777777778,
              "#fb9f3a"
             ],
             [
              0.8888888888888888,
              "#fdca26"
             ],
             [
              1,
              "#f0f921"
             ]
            ],
            "type": "histogram2dcontour"
           }
          ],
          "mesh3d": [
           {
            "colorbar": {
             "outlinewidth": 0,
             "ticks": ""
            },
            "type": "mesh3d"
           }
          ],
          "parcoords": [
           {
            "line": {
             "colorbar": {
              "outlinewidth": 0,
              "ticks": ""
             }
            },
            "type": "parcoords"
           }
          ],
          "pie": [
           {
            "automargin": true,
            "type": "pie"
           }
          ],
          "scatter": [
           {
            "fillpattern": {
             "fillmode": "overlay",
             "size": 10,
             "solidity": 0.2
            },
            "type": "scatter"
           }
          ],
          "scatter3d": [
           {
            "line": {
             "colorbar": {
              "outlinewidth": 0,
              "ticks": ""
             }
            },
            "marker": {
             "colorbar": {
              "outlinewidth": 0,
              "ticks": ""
             }
            },
            "type": "scatter3d"
           }
          ],
          "scattercarpet": [
           {
            "marker": {
             "colorbar": {
              "outlinewidth": 0,
              "ticks": ""
             }
            },
            "type": "scattercarpet"
           }
          ],
          "scattergeo": [
           {
            "marker": {
             "colorbar": {
              "outlinewidth": 0,
              "ticks": ""
             }
            },
            "type": "scattergeo"
           }
          ],
          "scattergl": [
           {
            "marker": {
             "colorbar": {
              "outlinewidth": 0,
              "ticks": ""
             }
            },
            "type": "scattergl"
           }
          ],
          "scattermapbox": [
           {
            "marker": {
             "colorbar": {
              "outlinewidth": 0,
              "ticks": ""
             }
            },
            "type": "scattermapbox"
           }
          ],
          "scatterpolar": [
           {
            "marker": {
             "colorbar": {
              "outlinewidth": 0,
              "ticks": ""
             }
            },
            "type": "scatterpolar"
           }
          ],
          "scatterpolargl": [
           {
            "marker": {
             "colorbar": {
              "outlinewidth": 0,
              "ticks": ""
             }
            },
            "type": "scatterpolargl"
           }
          ],
          "scatterternary": [
           {
            "marker": {
             "colorbar": {
              "outlinewidth": 0,
              "ticks": ""
             }
            },
            "type": "scatterternary"
           }
          ],
          "surface": [
           {
            "colorbar": {
             "outlinewidth": 0,
             "ticks": ""
            },
            "colorscale": [
             [
              0,
              "#0d0887"
             ],
             [
              0.1111111111111111,
              "#46039f"
             ],
             [
              0.2222222222222222,
              "#7201a8"
             ],
             [
              0.3333333333333333,
              "#9c179e"
             ],
             [
              0.4444444444444444,
              "#bd3786"
             ],
             [
              0.5555555555555556,
              "#d8576b"
             ],
             [
              0.6666666666666666,
              "#ed7953"
             ],
             [
              0.7777777777777778,
              "#fb9f3a"
             ],
             [
              0.8888888888888888,
              "#fdca26"
             ],
             [
              1,
              "#f0f921"
             ]
            ],
            "type": "surface"
           }
          ],
          "table": [
           {
            "cells": {
             "fill": {
              "color": "#EBF0F8"
             },
             "line": {
              "color": "white"
             }
            },
            "header": {
             "fill": {
              "color": "#C8D4E3"
             },
             "line": {
              "color": "white"
             }
            },
            "type": "table"
           }
          ]
         },
         "layout": {
          "annotationdefaults": {
           "arrowcolor": "#2a3f5f",
           "arrowhead": 0,
           "arrowwidth": 1
          },
          "autotypenumbers": "strict",
          "coloraxis": {
           "colorbar": {
            "outlinewidth": 0,
            "ticks": ""
           }
          },
          "colorscale": {
           "diverging": [
            [
             0,
             "#8e0152"
            ],
            [
             0.1,
             "#c51b7d"
            ],
            [
             0.2,
             "#de77ae"
            ],
            [
             0.3,
             "#f1b6da"
            ],
            [
             0.4,
             "#fde0ef"
            ],
            [
             0.5,
             "#f7f7f7"
            ],
            [
             0.6,
             "#e6f5d0"
            ],
            [
             0.7,
             "#b8e186"
            ],
            [
             0.8,
             "#7fbc41"
            ],
            [
             0.9,
             "#4d9221"
            ],
            [
             1,
             "#276419"
            ]
           ],
           "sequential": [
            [
             0,
             "#0d0887"
            ],
            [
             0.1111111111111111,
             "#46039f"
            ],
            [
             0.2222222222222222,
             "#7201a8"
            ],
            [
             0.3333333333333333,
             "#9c179e"
            ],
            [
             0.4444444444444444,
             "#bd3786"
            ],
            [
             0.5555555555555556,
             "#d8576b"
            ],
            [
             0.6666666666666666,
             "#ed7953"
            ],
            [
             0.7777777777777778,
             "#fb9f3a"
            ],
            [
             0.8888888888888888,
             "#fdca26"
            ],
            [
             1,
             "#f0f921"
            ]
           ],
           "sequentialminus": [
            [
             0,
             "#0d0887"
            ],
            [
             0.1111111111111111,
             "#46039f"
            ],
            [
             0.2222222222222222,
             "#7201a8"
            ],
            [
             0.3333333333333333,
             "#9c179e"
            ],
            [
             0.4444444444444444,
             "#bd3786"
            ],
            [
             0.5555555555555556,
             "#d8576b"
            ],
            [
             0.6666666666666666,
             "#ed7953"
            ],
            [
             0.7777777777777778,
             "#fb9f3a"
            ],
            [
             0.8888888888888888,
             "#fdca26"
            ],
            [
             1,
             "#f0f921"
            ]
           ]
          },
          "colorway": [
           "#636efa",
           "#EF553B",
           "#00cc96",
           "#ab63fa",
           "#FFA15A",
           "#19d3f3",
           "#FF6692",
           "#B6E880",
           "#FF97FF",
           "#FECB52"
          ],
          "font": {
           "color": "#2a3f5f"
          },
          "geo": {
           "bgcolor": "white",
           "lakecolor": "white",
           "landcolor": "#E5ECF6",
           "showlakes": true,
           "showland": true,
           "subunitcolor": "white"
          },
          "hoverlabel": {
           "align": "left"
          },
          "hovermode": "closest",
          "mapbox": {
           "style": "light"
          },
          "paper_bgcolor": "white",
          "plot_bgcolor": "#E5ECF6",
          "polar": {
           "angularaxis": {
            "gridcolor": "white",
            "linecolor": "white",
            "ticks": ""
           },
           "bgcolor": "#E5ECF6",
           "radialaxis": {
            "gridcolor": "white",
            "linecolor": "white",
            "ticks": ""
           }
          },
          "scene": {
           "xaxis": {
            "backgroundcolor": "#E5ECF6",
            "gridcolor": "white",
            "gridwidth": 2,
            "linecolor": "white",
            "showbackground": true,
            "ticks": "",
            "zerolinecolor": "white"
           },
           "yaxis": {
            "backgroundcolor": "#E5ECF6",
            "gridcolor": "white",
            "gridwidth": 2,
            "linecolor": "white",
            "showbackground": true,
            "ticks": "",
            "zerolinecolor": "white"
           },
           "zaxis": {
            "backgroundcolor": "#E5ECF6",
            "gridcolor": "white",
            "gridwidth": 2,
            "linecolor": "white",
            "showbackground": true,
            "ticks": "",
            "zerolinecolor": "white"
           }
          },
          "shapedefaults": {
           "line": {
            "color": "#2a3f5f"
           }
          },
          "ternary": {
           "aaxis": {
            "gridcolor": "white",
            "linecolor": "white",
            "ticks": ""
           },
           "baxis": {
            "gridcolor": "white",
            "linecolor": "white",
            "ticks": ""
           },
           "bgcolor": "#E5ECF6",
           "caxis": {
            "gridcolor": "white",
            "linecolor": "white",
            "ticks": ""
           }
          },
          "title": {
           "x": 0.05
          },
          "xaxis": {
           "automargin": true,
           "gridcolor": "white",
           "linecolor": "white",
           "ticks": "",
           "title": {
            "standoff": 15
           },
           "zerolinecolor": "white",
           "zerolinewidth": 2
          },
          "yaxis": {
           "automargin": true,
           "gridcolor": "white",
           "linecolor": "white",
           "ticks": "",
           "title": {
            "standoff": 15
           },
           "zerolinecolor": "white",
           "zerolinewidth": 2
          }
         }
        },
        "title": {
         "text": "Podcasts with Highest Views (Top 20)"
        },
        "uniformtext": {
         "minsize": 8,
         "mode": "hide"
        },
        "xaxis": {
         "anchor": "y",
         "domain": [
          0,
          1
         ],
         "tickangle": -90,
         "tickfont": {
          "size": 9
         },
         "title": {
          "text": "Guest Name"
         }
        },
        "yaxis": {
         "anchor": "x",
         "domain": [
          0,
          1
         ],
         "title": {
          "text": "Views"
         }
        }
       }
      }
     },
     "metadata": {},
     "output_type": "display_data"
    }
   ],
   "source": [
    "fig2 = px.bar(top_lexcast, x=\"Guest Name\", y=\"Views\", title=\"Podcasts with Highest Views (Top 20)\",\n",
    "    hover_data=[\"Views\", \"Guest Name\", \"Date\", \"Topics Discussed\"], text_auto='.2s', color=\"Views\")\n",
    "\n",
    "fig2.update_traces(textfont_size=12, textangle=1, textposition=\"outside\", cliponaxis=False)\n",
    "fig2.update_layout(height=600,xaxis_tickfont_size=9, uniformtext_minsize=8,\n",
    "    uniformtext_mode='hide',xaxis_tickangle=-90)\n",
    "    \n",
    "fig2"
   ]
  },
  {
   "cell_type": "code",
   "execution_count": 243,
   "metadata": {},
   "outputs": [
    {
     "data": {
      "text/html": [
       "<div>\n",
       "<style scoped>\n",
       "    .dataframe tbody tr th:only-of-type {\n",
       "        vertical-align: middle;\n",
       "    }\n",
       "\n",
       "    .dataframe tbody tr th {\n",
       "        vertical-align: top;\n",
       "    }\n",
       "\n",
       "    .dataframe thead th {\n",
       "        text-align: right;\n",
       "    }\n",
       "</style>\n",
       "<table border=\"1\" class=\"dataframe\">\n",
       "  <thead>\n",
       "    <tr style=\"text-align: right;\">\n",
       "      <th></th>\n",
       "      <th>Guest Name</th>\n",
       "      <th>Topics Discussed</th>\n",
       "      <th>Length</th>\n",
       "      <th>Views</th>\n",
       "      <th>Podcast Number</th>\n",
       "    </tr>\n",
       "  </thead>\n",
       "  <tbody>\n",
       "    <tr>\n",
       "      <th>0</th>\n",
       "      <td>Max Tegmark</td>\n",
       "      <td>Life 3.0</td>\n",
       "      <td>4978</td>\n",
       "      <td>231358</td>\n",
       "      <td>1</td>\n",
       "    </tr>\n",
       "    <tr>\n",
       "      <th>1</th>\n",
       "      <td>Christof Koch</td>\n",
       "      <td>Consciousness</td>\n",
       "      <td>3474</td>\n",
       "      <td>190640</td>\n",
       "      <td>2</td>\n",
       "    </tr>\n",
       "    <tr>\n",
       "      <th>2</th>\n",
       "      <td>Steven Pinker</td>\n",
       "      <td>AI in  Age of Reason</td>\n",
       "      <td>2273</td>\n",
       "      <td>88726</td>\n",
       "      <td>3</td>\n",
       "    </tr>\n",
       "    <tr>\n",
       "      <th>3</th>\n",
       "      <td>Yoshua Bengio</td>\n",
       "      <td>Deep Learning</td>\n",
       "      <td>2538</td>\n",
       "      <td>104517</td>\n",
       "      <td>4</td>\n",
       "    </tr>\n",
       "    <tr>\n",
       "      <th>4</th>\n",
       "      <td>Vladimir Vapnik</td>\n",
       "      <td>Statistical Learning</td>\n",
       "      <td>3242</td>\n",
       "      <td>58452</td>\n",
       "      <td>5</td>\n",
       "    </tr>\n",
       "    <tr>\n",
       "      <th>...</th>\n",
       "      <td>...</td>\n",
       "      <td>...</td>\n",
       "      <td>...</td>\n",
       "      <td>...</td>\n",
       "      <td>...</td>\n",
       "    </tr>\n",
       "    <tr>\n",
       "      <th>321</th>\n",
       "      <td>GothamChess</td>\n",
       "      <td>Cheating Scal &amp; Chess Bots</td>\n",
       "      <td>12798</td>\n",
       "      <td>351784</td>\n",
       "      <td>327</td>\n",
       "    </tr>\n",
       "    <tr>\n",
       "      <th>322</th>\n",
       "      <td>John Danaher</td>\n",
       "      <td>Grappling</td>\n",
       "      <td>17318</td>\n",
       "      <td>181424</td>\n",
       "      <td>328</td>\n",
       "    </tr>\n",
       "    <tr>\n",
       "      <th>322</th>\n",
       "      <td>John Danaher</td>\n",
       "      <td>Jiu Jitsu</td>\n",
       "      <td>17318</td>\n",
       "      <td>181424</td>\n",
       "      <td>328</td>\n",
       "    </tr>\n",
       "    <tr>\n",
       "      <th>322</th>\n",
       "      <td>John Danaher</td>\n",
       "      <td>ADCC</td>\n",
       "      <td>17318</td>\n",
       "      <td>181424</td>\n",
       "      <td>328</td>\n",
       "    </tr>\n",
       "    <tr>\n",
       "      <th>322</th>\n",
       "      <td>John Danaher</td>\n",
       "      <td>Animal Combat</td>\n",
       "      <td>17318</td>\n",
       "      <td>181424</td>\n",
       "      <td>328</td>\n",
       "    </tr>\n",
       "  </tbody>\n",
       "</table>\n",
       "<p>712 rows × 5 columns</p>\n",
       "</div>"
      ],
      "text/plain": [
       "          Guest Name            Topics Discussed  Length   Views  \\\n",
       "0        Max Tegmark                    Life 3.0    4978  231358   \n",
       "1      Christof Koch               Consciousness    3474  190640   \n",
       "2      Steven Pinker        AI in  Age of Reason    2273   88726   \n",
       "3      Yoshua Bengio               Deep Learning    2538  104517   \n",
       "4    Vladimir Vapnik        Statistical Learning    3242   58452   \n",
       "..               ...                         ...     ...     ...   \n",
       "321      GothamChess  Cheating Scal & Chess Bots   12798  351784   \n",
       "322     John Danaher                   Grappling   17318  181424   \n",
       "322     John Danaher                   Jiu Jitsu   17318  181424   \n",
       "322     John Danaher                        ADCC   17318  181424   \n",
       "322     John Danaher               Animal Combat   17318  181424   \n",
       "\n",
       "    Podcast Number  \n",
       "0                1  \n",
       "1                2  \n",
       "2                3  \n",
       "3                4  \n",
       "4                5  \n",
       "..             ...  \n",
       "321            327  \n",
       "322            328  \n",
       "322            328  \n",
       "322            328  \n",
       "322            328  \n",
       "\n",
       "[712 rows x 5 columns]"
      ]
     },
     "execution_count": 243,
     "metadata": {},
     "output_type": "execute_result"
    }
   ],
   "source": [
    "lexcast_topics_df = lexcast_df[[\"Guest Name\", \"Topics Discussed\", \"Length\", \"Views\", \"Podcast Number\"]].copy()\n",
    "lexcast_topics_df = lexcast_topics_df.explode(\"Topics Discussed\")\n",
    "lexcast_topics_df"
   ]
  },
  {
   "cell_type": "code",
   "execution_count": 244,
   "metadata": {},
   "outputs": [],
   "source": [
    "# lexcast_topics_df[\"Topics Discussed\"].value_counts().to_dict()"
   ]
  },
  {
   "cell_type": "code",
   "execution_count": 245,
   "metadata": {},
   "outputs": [
    {
     "name": "stdout",
     "output_type": "stream",
     "text": [
      "There are total of 12628 characters in the Lyrics column \n"
     ]
    }
   ],
   "source": [
    "topics_text = \" \".join(text for text in lexcast_df['Topics Discussed'].astype(str))\n",
    "\n",
    "# Most topics contain the \"'\" this will apprea in the word cloud thus removing the \"'\"\n",
    "topics_text = topics_text.replace(\"'\", \"\") \n",
    "\n",
    "print(\"There are total of {} characters in the Lyrics column \".format(len(topics_text)))"
   ]
  },
  {
   "cell_type": "code",
   "execution_count": 246,
   "metadata": {},
   "outputs": [
    {
     "data": {
      "image/png": "[encoded data removed]",
      "text/plain": [
       "<Figure size 640x480 with 1 Axes>"
      ]
     },
     "metadata": {},
     "output_type": "display_data"
    }
   ],
   "source": [
    "wordcloud = WordCloud(\n",
    "    # stopwords=stopwords,\n",
    "    background_color='white', width=1000, height=600,\n",
    "    max_words=100\n",
    "    ).generate(topics_text)\n",
    "\n",
    "# plt.figure(figsize=(15,10))\n",
    "plt.tight_layout(pad=0)\n",
    "plt.imshow(wordcloud, interpolation='bilinear')\n",
    "plt.axis(\"off\")\n",
    "plt.show()"
   ]
  },
  {
   "cell_type": "code",
   "execution_count": 247,
   "metadata": {},
   "outputs": [
    {
     "data": {
      "application/vnd.plotly.v1+json": {
       "config": {
        "plotlyServerURL": "https://plot.ly"
       },
       "data": [
        {
         "alignmentgroup": "True",
         "bingroup": "x",
         "hovertemplate": "Views=%{x}<br>count=%{y}<extra></extra>",
         "legendgroup": "",
         "marker": {
          "color": "#636efa",
          "pattern": {
           "shape": ""
          }
         },
         "name": "",
         "nbinsx": 100,
         "offsetgroup": "",
         "orientation": "v",
         "showlegend": false,
         "type": "histogram",
         "x": [
          231358,
          190640,
          88726,
          104517,
          58452,
          227015,
          45775,
          111652,
          159418,
          54332,
          104495,
          40835,
          51093,
          33421,
          33603,
          719138,
          82370,
          1926631,
          199228,
          65877,
          125201,
          32186,
          18190,
          25534,
          301423,
          189692,
          176178,
          30837,
          42223,
          33782,
          749224,
          29530,
          35268,
          19557,
          113107,
          144734,
          39480,
          146144,
          25033,
          29686,
          677977,
          70455,
          70425,
          60460,
          3243193,
          443464,
          729793,
          632191,
          2175221,
          38732,
          52075,
          180398,
          411351,
          373525,
          343566,
          87343,
          52186,
          330058,
          64389,
          657201,
          78815,
          296400,
          615609,
          358398,
          319126,
          25099,
          134660,
          47289,
          388924,
          525467,
          44719,
          185227,
          394175,
          143999,
          87943,
          96688,
          132197,
          48566,
          163309,
          2009490,
          63396,
          71301,
          740864,
          30379,
          1481332,
          319239,
          1318461,
          1082211,
          872694,
          63086,
          700182,
          226586,
          85036,
          157111,
          63265,
          89892,
          40764,
          93764,
          116757,
          1451777,
          75373,
          501910,
          117540,
          42118,
          151547,
          74909,
          85245,
          285778,
          53236,
          130048,
          224650,
          349209,
          106110,
          109818,
          416149,
          854143,
          229292,
          143331,
          218725,
          260714,
          6202719,
          492308,
          392427,
          873321,
          287390,
          2961346,
          1049245,
          300953,
          132571,
          396834,
          947879,
          186603,
          1739844,
          136839,
          4228479,
          2711819,
          264518,
          1664270,
          168116,
          143033,
          168883,
          86636,
          88666,
          1211541,
          151220,
          95282,
          154461,
          900762,
          1612127,
          71508,
          150508,
          112532,
          3334168,
          1309147,
          201313,
          1859737,
          403545,
          278303,
          227519,
          708601,
          309538,
          680424,
          1044819,
          1847699,
          206848,
          1050294,
          1463944,
          481183,
          235416,
          178107,
          637099,
          72735,
          560913,
          274348,
          287019,
          411508,
          105590,
          466859,
          961021,
          345457,
          726848,
          1420606,
          206546,
          494749,
          3971978,
          189181,
          737414,
          4386790,
          525649,
          183333,
          434253,
          722602,
          167580,
          2453626,
          471273,
          1182893,
          810869,
          848021,
          1711658,
          1253755,
          1451684,
          182678,
          133612,
          271136,
          107310,
          113635,
          205032,
          262297,
          115937,
          327999,
          422643,
          1275540,
          271554,
          157773,
          125168,
          598642,
          145987,
          487248,
          184879,
          93843,
          115794,
          146935,
          242158,
          374856,
          492974,
          131351,
          843245,
          340871,
          368949,
          159072,
          314689,
          934077,
          279845,
          1630080,
          58084,
          94440,
          542367,
          159290,
          801139,
          1056836,
          237437,
          186919,
          225328,
          200857,
          50304,
          260934,
          459963,
          1071023,
          353608,
          467013,
          1740540,
          6072301,
          1330274,
          421418,
          462595,
          723041,
          1442127,
          321845,
          106923,
          1036093,
          208790,
          2148144,
          863924,
          578970,
          447740,
          746687,
          3640050,
          745085,
          318594,
          428245,
          1447803,
          182598,
          333731,
          1021797,
          4047304,
          886624,
          110267,
          734535,
          138980,
          1403825,
          461788,
          207411,
          2534990,
          209594,
          1319212,
          263421,
          559706,
          3311571,
          377191,
          1178334,
          1579852,
          362830,
          390397,
          965450,
          5445731,
          2403957,
          1027831,
          748603,
          488621,
          1139118,
          194150,
          436381,
          1391167,
          967101,
          2693401,
          287169,
          1266128,
          2640820,
          980260,
          787531,
          654388,
          565767,
          573921,
          465145,
          539936,
          458329,
          147258,
          208927,
          466285,
          664082,
          235480,
          351784,
          181424
         ],
         "xaxis": "x",
         "yaxis": "y"
        }
       ],
       "layout": {
        "bargap": 0.1,
        "barmode": "relative",
        "legend": {
         "tracegroupgap": 0
        },
        "margin": {
         "t": 60
        },
        "template": {
         "data": {
          "bar": [
           {
            "error_x": {
             "color": "#2a3f5f"
            },
            "error_y": {
             "color": "#2a3f5f"
            },
            "marker": {
             "line": {
              "color": "#E5ECF6",
              "width": 0.5
             },
             "pattern": {
              "fillmode": "overlay",
              "size": 10,
              "solidity": 0.2
             }
            },
            "type": "bar"
           }
          ],
          "barpolar": [
           {
            "marker": {
             "line": {
              "color": "#E5ECF6",
              "width": 0.5
             },
             "pattern": {
              "fillmode": "overlay",
              "size": 10,
              "solidity": 0.2
             }
            },
            "type": "barpolar"
           }
          ],
          "carpet": [
           {
            "aaxis": {
             "endlinecolor": "#2a3f5f",
             "gridcolor": "white",
             "linecolor": "white",
             "minorgridcolor": "white",
             "startlinecolor": "#2a3f5f"
            },
            "baxis": {
             "endlinecolor": "#2a3f5f",
             "gridcolor": "white",
             "linecolor": "white",
             "minorgridcolor": "white",
             "startlinecolor": "#2a3f5f"
            },
            "type": "carpet"
           }
          ],
          "choropleth": [
           {
            "colorbar": {
             "outlinewidth": 0,
             "ticks": ""
            },
            "type": "choropleth"
           }
          ],
          "contour": [
           {
            "colorbar": {
             "outlinewidth": 0,
             "ticks": ""
            },
            "colorscale": [
             [
              0,
              "#0d0887"
             ],
             [
              0.1111111111111111,
              "#46039f"
             ],
             [
              0.2222222222222222,
              "#7201a8"
             ],
             [
              0.3333333333333333,
              "#9c179e"
             ],
             [
              0.4444444444444444,
              "#bd3786"
             ],
             [
              0.5555555555555556,
              "#d8576b"
             ],
             [
              0.6666666666666666,
              "#ed7953"
             ],
             [
              0.7777777777777778,
              "#fb9f3a"
             ],
             [
              0.8888888888888888,
              "#fdca26"
             ],
             [
              1,
              "#f0f921"
             ]
            ],
            "type": "contour"
           }
          ],
          "contourcarpet": [
           {
            "colorbar": {
             "outlinewidth": 0,
             "ticks": ""
            },
            "type": "contourcarpet"
           }
          ],
          "heatmap": [
           {
            "colorbar": {
             "outlinewidth": 0,
             "ticks": ""
            },
            "colorscale": [
             [
              0,
              "#0d0887"
             ],
             [
              0.1111111111111111,
              "#46039f"
             ],
             [
              0.2222222222222222,
              "#7201a8"
             ],
             [
              0.3333333333333333,
              "#9c179e"
             ],
             [
              0.4444444444444444,
              "#bd3786"
             ],
             [
              0.5555555555555556,
              "#d8576b"
             ],
             [
              0.6666666666666666,
              "#ed7953"
             ],
             [
              0.7777777777777778,
              "#fb9f3a"
             ],
             [
              0.8888888888888888,
              "#fdca26"
             ],
             [
              1,
              "#f0f921"
             ]
            ],
            "type": "heatmap"
           }
          ],
          "heatmapgl": [
           {
            "colorbar": {
             "outlinewidth": 0,
             "ticks": ""
            },
            "colorscale": [
             [
              0,
              "#0d0887"
             ],
             [
              0.1111111111111111,
              "#46039f"
             ],
             [
              0.2222222222222222,
              "#7201a8"
             ],
             [
              0.3333333333333333,
              "#9c179e"
             ],
             [
              0.4444444444444444,
              "#bd3786"
             ],
             [
              0.5555555555555556,
              "#d8576b"
             ],
             [
              0.6666666666666666,
              "#ed7953"
             ],
             [
              0.7777777777777778,
              "#fb9f3a"
             ],
             [
              0.8888888888888888,
              "#fdca26"
             ],
             [
              1,
              "#f0f921"
             ]
            ],
            "type": "heatmapgl"
           }
          ],
          "histogram": [
           {
            "marker": {
             "pattern": {
              "fillmode": "overlay",
              "size": 10,
              "solidity": 0.2
             }
            },
            "type": "histogram"
           }
          ],
          "histogram2d": [
           {
            "colorbar": {
             "outlinewidth": 0,
             "ticks": ""
            },
            "colorscale": [
             [
              0,
              "#0d0887"
             ],
             [
              0.1111111111111111,
              "#46039f"
             ],
             [
              0.2222222222222222,
              "#7201a8"
             ],
             [
              0.3333333333333333,
              "#9c179e"
             ],
             [
              0.4444444444444444,
              "#bd3786"
             ],
             [
              0.5555555555555556,
              "#d8576b"
             ],
             [
              0.6666666666666666,
              "#ed7953"
             ],
             [
              0.7777777777777778,
              "#fb9f3a"
             ],
             [
              0.8888888888888888,
              "#fdca26"
             ],
             [
              1,
              "#f0f921"
             ]
            ],
            "type": "histogram2d"
           }
          ],
          "histogram2dcontour": [
           {
            "colorbar": {
             "outlinewidth": 0,
             "ticks": ""
            },
            "colorscale": [
             [
              0,
              "#0d0887"
             ],
             [
              0.1111111111111111,
              "#46039f"
             ],
             [
              0.2222222222222222,
              "#7201a8"
             ],
             [
              0.3333333333333333,
              "#9c179e"
             ],
             [
              0.4444444444444444,
              "#bd3786"
             ],
             [
              0.5555555555555556,
              "#d8576b"
             ],
             [
              0.6666666666666666,
              "#ed7953"
             ],
             [
              0.7777777777777778,
              "#fb9f3a"
             ],
             [
              0.8888888888888888,
              "#fdca26"
             ],
             [
              1,
              "#f0f921"
             ]
            ],
            "type": "histogram2dcontour"
           }
          ],
          "mesh3d": [
           {
            "colorbar": {
             "outlinewidth": 0,
             "ticks": ""
            },
            "type": "mesh3d"
           }
          ],
          "parcoords": [
           {
            "line": {
             "colorbar": {
              "outlinewidth": 0,
              "ticks": ""
             }
            },
            "type": "parcoords"
           }
          ],
          "pie": [
           {
            "automargin": true,
            "type": "pie"
           }
          ],
          "scatter": [
           {
            "fillpattern": {
             "fillmode": "overlay",
             "size": 10,
             "solidity": 0.2
            },
            "type": "scatter"
           }
          ],
          "scatter3d": [
           {
            "line": {
             "colorbar": {
              "outlinewidth": 0,
              "ticks": ""
             }
            },
            "marker": {
             "colorbar": {
              "outlinewidth": 0,
              "ticks": ""
             }
            },
            "type": "scatter3d"
           }
          ],
          "scattercarpet": [
           {
            "marker": {
             "colorbar": {
              "outlinewidth": 0,
              "ticks": ""
             }
            },
            "type": "scattercarpet"
           }
          ],
          "scattergeo": [
           {
            "marker": {
             "colorbar": {
              "outlinewidth": 0,
              "ticks": ""
             }
            },
            "type": "scattergeo"
           }
          ],
          "scattergl": [
           {
            "marker": {
             "colorbar": {
              "outlinewidth": 0,
              "ticks": ""
             }
            },
            "type": "scattergl"
           }
          ],
          "scattermapbox": [
           {
            "marker": {
             "colorbar": {
              "outlinewidth": 0,
              "ticks": ""
             }
            },
            "type": "scattermapbox"
           }
          ],
          "scatterpolar": [
           {
            "marker": {
             "colorbar": {
              "outlinewidth": 0,
              "ticks": ""
             }
            },
            "type": "scatterpolar"
           }
          ],
          "scatterpolargl": [
           {
            "marker": {
             "colorbar": {
              "outlinewidth": 0,
              "ticks": ""
             }
            },
            "type": "scatterpolargl"
           }
          ],
          "scatterternary": [
           {
            "marker": {
             "colorbar": {
              "outlinewidth": 0,
              "ticks": ""
             }
            },
            "type": "scatterternary"
           }
          ],
          "surface": [
           {
            "colorbar": {
             "outlinewidth": 0,
             "ticks": ""
            },
            "colorscale": [
             [
              0,
              "#0d0887"
             ],
             [
              0.1111111111111111,
              "#46039f"
             ],
             [
              0.2222222222222222,
              "#7201a8"
             ],
             [
              0.3333333333333333,
              "#9c179e"
             ],
             [
              0.4444444444444444,
              "#bd3786"
             ],
             [
              0.5555555555555556,
              "#d8576b"
             ],
             [
              0.6666666666666666,
              "#ed7953"
             ],
             [
              0.7777777777777778,
              "#fb9f3a"
             ],
             [
              0.8888888888888888,
              "#fdca26"
             ],
             [
              1,
              "#f0f921"
             ]
            ],
            "type": "surface"
           }
          ],
          "table": [
           {
            "cells": {
             "fill": {
              "color": "#EBF0F8"
             },
             "line": {
              "color": "white"
             }
            },
            "header": {
             "fill": {
              "color": "#C8D4E3"
             },
             "line": {
              "color": "white"
             }
            },
            "type": "table"
           }
          ]
         },
         "layout": {
          "annotationdefaults": {
           "arrowcolor": "#2a3f5f",
           "arrowhead": 0,
           "arrowwidth": 1
          },
          "autotypenumbers": "strict",
          "coloraxis": {
           "colorbar": {
            "outlinewidth": 0,
            "ticks": ""
           }
          },
          "colorscale": {
           "diverging": [
            [
             0,
             "#8e0152"
            ],
            [
             0.1,
             "#c51b7d"
            ],
            [
             0.2,
             "#de77ae"
            ],
            [
             0.3,
             "#f1b6da"
            ],
            [
             0.4,
             "#fde0ef"
            ],
            [
             0.5,
             "#f7f7f7"
            ],
            [
             0.6,
             "#e6f5d0"
            ],
            [
             0.7,
             "#b8e186"
            ],
            [
             0.8,
             "#7fbc41"
            ],
            [
             0.9,
             "#4d9221"
            ],
            [
             1,
             "#276419"
            ]
           ],
           "sequential": [
            [
             0,
             "#0d0887"
            ],
            [
             0.1111111111111111,
             "#46039f"
            ],
            [
             0.2222222222222222,
             "#7201a8"
            ],
            [
             0.3333333333333333,
             "#9c179e"
            ],
            [
             0.4444444444444444,
             "#bd3786"
            ],
            [
             0.5555555555555556,
             "#d8576b"
            ],
            [
             0.6666666666666666,
             "#ed7953"
            ],
            [
             0.7777777777777778,
             "#fb9f3a"
            ],
            [
             0.8888888888888888,
             "#fdca26"
            ],
            [
             1,
             "#f0f921"
            ]
           ],
           "sequentialminus": [
            [
             0,
             "#0d0887"
            ],
            [
             0.1111111111111111,
             "#46039f"
            ],
            [
             0.2222222222222222,
             "#7201a8"
            ],
            [
             0.3333333333333333,
             "#9c179e"
            ],
            [
             0.4444444444444444,
             "#bd3786"
            ],
            [
             0.5555555555555556,
             "#d8576b"
            ],
            [
             0.6666666666666666,
             "#ed7953"
            ],
            [
             0.7777777777777778,
             "#fb9f3a"
            ],
            [
             0.8888888888888888,
             "#fdca26"
            ],
            [
             1,
             "#f0f921"
            ]
           ]
          },
          "colorway": [
           "#636efa",
           "#EF553B",
           "#00cc96",
           "#ab63fa",
           "#FFA15A",
           "#19d3f3",
           "#FF6692",
           "#B6E880",
           "#FF97FF",
           "#FECB52"
          ],
          "font": {
           "color": "#2a3f5f"
          },
          "geo": {
           "bgcolor": "white",
           "lakecolor": "white",
           "landcolor": "#E5ECF6",
           "showlakes": true,
           "showland": true,
           "subunitcolor": "white"
          },
          "hoverlabel": {
           "align": "left"
          },
          "hovermode": "closest",
          "mapbox": {
           "style": "light"
          },
          "paper_bgcolor": "white",
          "plot_bgcolor": "#E5ECF6",
          "polar": {
           "angularaxis": {
            "gridcolor": "white",
            "linecolor": "white",
            "ticks": ""
           },
           "bgcolor": "#E5ECF6",
           "radialaxis": {
            "gridcolor": "white",
            "linecolor": "white",
            "ticks": ""
           }
          },
          "scene": {
           "xaxis": {
            "backgroundcolor": "#E5ECF6",
            "gridcolor": "white",
            "gridwidth": 2,
            "linecolor": "white",
            "showbackground": true,
            "ticks": "",
            "zerolinecolor": "white"
           },
           "yaxis": {
            "backgroundcolor": "#E5ECF6",
            "gridcolor": "white",
            "gridwidth": 2,
            "linecolor": "white",
            "showbackground": true,
            "ticks": "",
            "zerolinecolor": "white"
           },
           "zaxis": {
            "backgroundcolor": "#E5ECF6",
            "gridcolor": "white",
            "gridwidth": 2,
            "linecolor": "white",
            "showbackground": true,
            "ticks": "",
            "zerolinecolor": "white"
           }
          },
          "shapedefaults": {
           "line": {
            "color": "#2a3f5f"
           }
          },
          "ternary": {
           "aaxis": {
            "gridcolor": "white",
            "linecolor": "white",
            "ticks": ""
           },
           "baxis": {
            "gridcolor": "white",
            "linecolor": "white",
            "ticks": ""
           },
           "bgcolor": "#E5ECF6",
           "caxis": {
            "gridcolor": "white",
            "linecolor": "white",
            "ticks": ""
           }
          },
          "title": {
           "x": 0.05
          },
          "xaxis": {
           "automargin": true,
           "gridcolor": "white",
           "linecolor": "white",
           "ticks": "",
           "title": {
            "standoff": 15
           },
           "zerolinecolor": "white",
           "zerolinewidth": 2
          },
          "yaxis": {
           "automargin": true,
           "gridcolor": "white",
           "linecolor": "white",
           "ticks": "",
           "title": {
            "standoff": 15
           },
           "zerolinecolor": "white",
           "zerolinewidth": 2
          }
         }
        },
        "xaxis": {
         "anchor": "y",
         "domain": [
          0,
          1
         ],
         "title": {
          "text": "Views"
         }
        },
        "yaxis": {
         "anchor": "x",
         "domain": [
          0,
          1
         ],
         "title": {
          "text": "count"
         }
        }
       }
      }
     },
     "metadata": {},
     "output_type": "display_data"
    }
   ],
   "source": [
    "fig3 = px.histogram(lexcast_df, x='Views', nbins=100)\n",
    "fig3.update_layout(bargap=0.1)\n",
    "fig3"
   ]
  },
  {
   "cell_type": "code",
   "execution_count": 265,
   "metadata": {},
   "outputs": [
    {
     "data": {
      "application/vnd.plotly.v1+json": {
       "config": {
        "plotlyServerURL": "https://plot.ly"
       },
       "data": [
        {
         "alignmentgroup": "True",
         "bingroup": "x",
         "hovertemplate": "Length=%{x}<br>count=%{y}<extra></extra>",
         "legendgroup": "",
         "marker": {
          "color": "#636efa",
          "pattern": {
           "shape": ""
          }
         },
         "name": "",
         "nbinsx": 100,
         "offsetgroup": "",
         "orientation": "v",
         "showlegend": false,
         "type": "histogram",
         "x": [
          4978,
          3474,
          2273,
          2538,
          3242,
          5204,
          4809,
          1987,
          5181,
          2564,
          4798,
          3977,
          4820,
          3324,
          3683,
          4916,
          5107,
          1965,
          4117,
          6361,
          4386,
          4258,
          4151,
          3611,
          7782,
          2090,
          5187,
          2688,
          6424,
          3464,
          7176,
          3462,
          4386,
          3606,
          6251,
          4558,
          3407,
          7189,
          2258,
          4649,
          3449,
          3792,
          5101,
          8671,
          3660,
          3324,
          5398,
          6433,
          2170,
          6535,
          2372,
          2993,
          2146,
          5420,
          4618,
          4981,
          6357,
          3513,
          4714,
          5700,
          6760,
          6356,
          5842,
          3765,
          4721,
          5997,
          3792,
          5452,
          5928,
          5683,
          6295,
          5621,
          5350,
          6349,
          5995,
          4368,
          4269,
          4152,
          4191,
          5704,
          5913,
          2269,
          6998,
          5441,
          5277,
          6481,
          4040,
          9996,
          11468,
          7742,
          3074,
          5900,
          4323,
          5848,
          7956,
          4216,
          4970,
          4356,
          5341,
          10818,
          5249,
          14937,
          6591,
          3734,
          7232,
          4154,
          5850,
          6189,
          6096,
          7652,
          7275,
          8964,
          10126,
          7805,
          6095,
          10583,
          7705,
          6084,
          9260,
          10866,
          14184,
          7852,
          15818,
          13693,
          6661,
          4564,
          12031,
          8417,
          6756,
          9760,
          11326,
          9298,
          10310,
          8630,
          12085,
          9347,
          10186,
          9135,
          8137,
          5989,
          7856,
          10489,
          6992,
          12898,
          8051,
          8590,
          7067,
          10514,
          10972,
          5326,
          4201,
          7957,
          9831,
          10963,
          4398,
          8560,
          5680,
          6272,
          6596,
          10759,
          7870,
          9555,
          9520,
          10403,
          7916,
          10985,
          11343,
          6821,
          10408,
          6217,
          10936,
          8801,
          8835,
          7798,
          6649,
          14629,
          6977,
          15918,
          9789,
          7727,
          10797,
          13074,
          8415,
          7014,
          11840,
          9090,
          8540,
          10920,
          6094,
          9707,
          15319,
          17871,
          10752,
          11829,
          7092,
          7248,
          7058,
          7168,
          7788,
          9441,
          9593,
          9366,
          6294,
          8001,
          10907,
          9030,
          9777,
          8309,
          10492,
          10098,
          6748,
          11541,
          8575,
          6737,
          10293,
          12520,
          8692,
          6749,
          8487,
          9848,
          10376,
          9117,
          13363,
          11124,
          10602,
          5440,
          10378,
          5180,
          9322,
          14766,
          9217,
          6345,
          4263,
          13123,
          6407,
          8588,
          11537,
          5213,
          9673,
          9591,
          11654,
          8127,
          9878,
          9767,
          3302,
          8156,
          17709,
          8320,
          4084,
          10000,
          5558,
          9108,
          12222,
          8509,
          6607,
          10685,
          14381,
          9910,
          8200,
          10742,
          9991,
          6178,
          8249,
          9423,
          7829,
          7295,
          7213,
          14751,
          7856,
          6409,
          13645,
          10107,
          12089,
          7456,
          14214,
          12322,
          8948,
          14722,
          4150,
          7498,
          15280,
          12744,
          6759,
          15300,
          9669,
          7920,
          15210,
          11776,
          9986,
          10431,
          9510,
          9831,
          7183,
          7839,
          6081,
          13054,
          9856,
          12662,
          6872,
          7996,
          7808,
          8964,
          9120,
          18890,
          13989,
          12784,
          11992,
          11013,
          12940,
          9112,
          2832,
          11461,
          13381,
          9337,
          8136,
          5771,
          9381,
          8515,
          8488,
          10821,
          9580,
          12798,
          17318
         ],
         "xaxis": "x",
         "yaxis": "y"
        }
       ],
       "layout": {
        "bargap": 0.1,
        "barmode": "relative",
        "legend": {
         "tracegroupgap": 0
        },
        "margin": {
         "t": 60
        },
        "template": {
         "data": {
          "bar": [
           {
            "error_x": {
             "color": "#2a3f5f"
            },
            "error_y": {
             "color": "#2a3f5f"
            },
            "marker": {
             "line": {
              "color": "#E5ECF6",
              "width": 0.5
             },
             "pattern": {
              "fillmode": "overlay",
              "size": 10,
              "solidity": 0.2
             }
            },
            "type": "bar"
           }
          ],
          "barpolar": [
           {
            "marker": {
             "line": {
              "color": "#E5ECF6",
              "width": 0.5
             },
             "pattern": {
              "fillmode": "overlay",
              "size": 10,
              "solidity": 0.2
             }
            },
            "type": "barpolar"
           }
          ],
          "carpet": [
           {
            "aaxis": {
             "endlinecolor": "#2a3f5f",
             "gridcolor": "white",
             "linecolor": "white",
             "minorgridcolor": "white",
             "startlinecolor": "#2a3f5f"
            },
            "baxis": {
             "endlinecolor": "#2a3f5f",
             "gridcolor": "white",
             "linecolor": "white",
             "minorgridcolor": "white",
             "startlinecolor": "#2a3f5f"
            },
            "type": "carpet"
           }
          ],
          "choropleth": [
           {
            "colorbar": {
             "outlinewidth": 0,
             "ticks": ""
            },
            "type": "choropleth"
           }
          ],
          "contour": [
           {
            "colorbar": {
             "outlinewidth": 0,
             "ticks": ""
            },
            "colorscale": [
             [
              0,
              "#0d0887"
             ],
             [
              0.1111111111111111,
              "#46039f"
             ],
             [
              0.2222222222222222,
              "#7201a8"
             ],
             [
              0.3333333333333333,
              "#9c179e"
             ],
             [
              0.4444444444444444,
              "#bd3786"
             ],
             [
              0.5555555555555556,
              "#d8576b"
             ],
             [
              0.6666666666666666,
              "#ed7953"
             ],
             [
              0.7777777777777778,
              "#fb9f3a"
             ],
             [
              0.8888888888888888,
              "#fdca26"
             ],
             [
              1,
              "#f0f921"
             ]
            ],
            "type": "contour"
           }
          ],
          "contourcarpet": [
           {
            "colorbar": {
             "outlinewidth": 0,
             "ticks": ""
            },
            "type": "contourcarpet"
           }
          ],
          "heatmap": [
           {
            "colorbar": {
             "outlinewidth": 0,
             "ticks": ""
            },
            "colorscale": [
             [
              0,
              "#0d0887"
             ],
             [
              0.1111111111111111,
              "#46039f"
             ],
             [
              0.2222222222222222,
              "#7201a8"
             ],
             [
              0.3333333333333333,
              "#9c179e"
             ],
             [
              0.4444444444444444,
              "#bd3786"
             ],
             [
              0.5555555555555556,
              "#d8576b"
             ],
             [
              0.6666666666666666,
              "#ed7953"
             ],
             [
              0.7777777777777778,
              "#fb9f3a"
             ],
             [
              0.8888888888888888,
              "#fdca26"
             ],
             [
              1,
              "#f0f921"
             ]
            ],
            "type": "heatmap"
           }
          ],
          "heatmapgl": [
           {
            "colorbar": {
             "outlinewidth": 0,
             "ticks": ""
            },
            "colorscale": [
             [
              0,
              "#0d0887"
             ],
             [
              0.1111111111111111,
              "#46039f"
             ],
             [
              0.2222222222222222,
              "#7201a8"
             ],
             [
              0.3333333333333333,
              "#9c179e"
             ],
             [
              0.4444444444444444,
              "#bd3786"
             ],
             [
              0.5555555555555556,
              "#d8576b"
             ],
             [
              0.6666666666666666,
              "#ed7953"
             ],
             [
              0.7777777777777778,
              "#fb9f3a"
             ],
             [
              0.8888888888888888,
              "#fdca26"
             ],
             [
              1,
              "#f0f921"
             ]
            ],
            "type": "heatmapgl"
           }
          ],
          "histogram": [
           {
            "marker": {
             "pattern": {
              "fillmode": "overlay",
              "size": 10,
              "solidity": 0.2
             }
            },
            "type": "histogram"
           }
          ],
          "histogram2d": [
           {
            "colorbar": {
             "outlinewidth": 0,
             "ticks": ""
            },
            "colorscale": [
             [
              0,
              "#0d0887"
             ],
             [
              0.1111111111111111,
              "#46039f"
             ],
             [
              0.2222222222222222,
              "#7201a8"
             ],
             [
              0.3333333333333333,
              "#9c179e"
             ],
             [
              0.4444444444444444,
              "#bd3786"
             ],
             [
              0.5555555555555556,
              "#d8576b"
             ],
             [
              0.6666666666666666,
              "#ed7953"
             ],
             [
              0.7777777777777778,
              "#fb9f3a"
             ],
             [
              0.8888888888888888,
              "#fdca26"
             ],
             [
              1,
              "#f0f921"
             ]
            ],
            "type": "histogram2d"
           }
          ],
          "histogram2dcontour": [
           {
            "colorbar": {
             "outlinewidth": 0,
             "ticks": ""
            },
            "colorscale": [
             [
              0,
              "#0d0887"
             ],
             [
              0.1111111111111111,
              "#46039f"
             ],
             [
              0.2222222222222222,
              "#7201a8"
             ],
             [
              0.3333333333333333,
              "#9c179e"
             ],
             [
              0.4444444444444444,
              "#bd3786"
             ],
             [
              0.5555555555555556,
              "#d8576b"
             ],
             [
              0.6666666666666666,
              "#ed7953"
             ],
             [
              0.7777777777777778,
              "#fb9f3a"
             ],
             [
              0.8888888888888888,
              "#fdca26"
             ],
             [
              1,
              "#f0f921"
             ]
            ],
            "type": "histogram2dcontour"
           }
          ],
          "mesh3d": [
           {
            "colorbar": {
             "outlinewidth": 0,
             "ticks": ""
            },
            "type": "mesh3d"
           }
          ],
          "parcoords": [
           {
            "line": {
             "colorbar": {
              "outlinewidth": 0,
              "ticks": ""
             }
            },
            "type": "parcoords"
           }
          ],
          "pie": [
           {
            "automargin": true,
            "type": "pie"
           }
          ],
          "scatter": [
           {
            "fillpattern": {
             "fillmode": "overlay",
             "size": 10,
             "solidity": 0.2
            },
            "type": "scatter"
           }
          ],
          "scatter3d": [
           {
            "line": {
             "colorbar": {
              "outlinewidth": 0,
              "ticks": ""
             }
            },
            "marker": {
             "colorbar": {
              "outlinewidth": 0,
              "ticks": ""
             }
            },
            "type": "scatter3d"
           }
          ],
          "scattercarpet": [
           {
            "marker": {
             "colorbar": {
              "outlinewidth": 0,
              "ticks": ""
             }
            },
            "type": "scattercarpet"
           }
          ],
          "scattergeo": [
           {
            "marker": {
             "colorbar": {
              "outlinewidth": 0,
              "ticks": ""
             }
            },
            "type": "scattergeo"
           }
          ],
          "scattergl": [
           {
            "marker": {
             "colorbar": {
              "outlinewidth": 0,
              "ticks": ""
             }
            },
            "type": "scattergl"
           }
          ],
          "scattermapbox": [
           {
            "marker": {
             "colorbar": {
              "outlinewidth": 0,
              "ticks": ""
             }
            },
            "type": "scattermapbox"
           }
          ],
          "scatterpolar": [
           {
            "marker": {
             "colorbar": {
              "outlinewidth": 0,
              "ticks": ""
             }
            },
            "type": "scatterpolar"
           }
          ],
          "scatterpolargl": [
           {
            "marker": {
             "colorbar": {
              "outlinewidth": 0,
              "ticks": ""
             }
            },
            "type": "scatterpolargl"
           }
          ],
          "scatterternary": [
           {
            "marker": {
             "colorbar": {
              "outlinewidth": 0,
              "ticks": ""
             }
            },
            "type": "scatterternary"
           }
          ],
          "surface": [
           {
            "colorbar": {
             "outlinewidth": 0,
             "ticks": ""
            },
            "colorscale": [
             [
              0,
              "#0d0887"
             ],
             [
              0.1111111111111111,
              "#46039f"
             ],
             [
              0.2222222222222222,
              "#7201a8"
             ],
             [
              0.3333333333333333,
              "#9c179e"
             ],
             [
              0.4444444444444444,
              "#bd3786"
             ],
             [
              0.5555555555555556,
              "#d8576b"
             ],
             [
              0.6666666666666666,
              "#ed7953"
             ],
             [
              0.7777777777777778,
              "#fb9f3a"
             ],
             [
              0.8888888888888888,
              "#fdca26"
             ],
             [
              1,
              "#f0f921"
             ]
            ],
            "type": "surface"
           }
          ],
          "table": [
           {
            "cells": {
             "fill": {
              "color": "#EBF0F8"
             },
             "line": {
              "color": "white"
             }
            },
            "header": {
             "fill": {
              "color": "#C8D4E3"
             },
             "line": {
              "color": "white"
             }
            },
            "type": "table"
           }
          ]
         },
         "layout": {
          "annotationdefaults": {
           "arrowcolor": "#2a3f5f",
           "arrowhead": 0,
           "arrowwidth": 1
          },
          "autotypenumbers": "strict",
          "coloraxis": {
           "colorbar": {
            "outlinewidth": 0,
            "ticks": ""
           }
          },
          "colorscale": {
           "diverging": [
            [
             0,
             "#8e0152"
            ],
            [
             0.1,
             "#c51b7d"
            ],
            [
             0.2,
             "#de77ae"
            ],
            [
             0.3,
             "#f1b6da"
            ],
            [
             0.4,
             "#fde0ef"
            ],
            [
             0.5,
             "#f7f7f7"
            ],
            [
             0.6,
             "#e6f5d0"
            ],
            [
             0.7,
             "#b8e186"
            ],
            [
             0.8,
             "#7fbc41"
            ],
            [
             0.9,
             "#4d9221"
            ],
            [
             1,
             "#276419"
            ]
           ],
           "sequential": [
            [
             0,
             "#0d0887"
            ],
            [
             0.1111111111111111,
             "#46039f"
            ],
            [
             0.2222222222222222,
             "#7201a8"
            ],
            [
             0.3333333333333333,
             "#9c179e"
            ],
            [
             0.4444444444444444,
             "#bd3786"
            ],
            [
             0.5555555555555556,
             "#d8576b"
            ],
            [
             0.6666666666666666,
             "#ed7953"
            ],
            [
             0.7777777777777778,
             "#fb9f3a"
            ],
            [
             0.8888888888888888,
             "#fdca26"
            ],
            [
             1,
             "#f0f921"
            ]
           ],
           "sequentialminus": [
            [
             0,
             "#0d0887"
            ],
            [
             0.1111111111111111,
             "#46039f"
            ],
            [
             0.2222222222222222,
             "#7201a8"
            ],
            [
             0.3333333333333333,
             "#9c179e"
            ],
            [
             0.4444444444444444,
             "#bd3786"
            ],
            [
             0.5555555555555556,
             "#d8576b"
            ],
            [
             0.6666666666666666,
             "#ed7953"
            ],
            [
             0.7777777777777778,
             "#fb9f3a"
            ],
            [
             0.8888888888888888,
             "#fdca26"
            ],
            [
             1,
             "#f0f921"
            ]
           ]
          },
          "colorway": [
           "#636efa",
           "#EF553B",
           "#00cc96",
           "#ab63fa",
           "#FFA15A",
           "#19d3f3",
           "#FF6692",
           "#B6E880",
           "#FF97FF",
           "#FECB52"
          ],
          "font": {
           "color": "#2a3f5f"
          },
          "geo": {
           "bgcolor": "white",
           "lakecolor": "white",
           "landcolor": "#E5ECF6",
           "showlakes": true,
           "showland": true,
           "subunitcolor": "white"
          },
          "hoverlabel": {
           "align": "left"
          },
          "hovermode": "closest",
          "mapbox": {
           "style": "light"
          },
          "paper_bgcolor": "white",
          "plot_bgcolor": "#E5ECF6",
          "polar": {
           "angularaxis": {
            "gridcolor": "white",
            "linecolor": "white",
            "ticks": ""
           },
           "bgcolor": "#E5ECF6",
           "radialaxis": {
            "gridcolor": "white",
            "linecolor": "white",
            "ticks": ""
           }
          },
          "scene": {
           "xaxis": {
            "backgroundcolor": "#E5ECF6",
            "gridcolor": "white",
            "gridwidth": 2,
            "linecolor": "white",
            "showbackground": true,
            "ticks": "",
            "zerolinecolor": "white"
           },
           "yaxis": {
            "backgroundcolor": "#E5ECF6",
            "gridcolor": "white",
            "gridwidth": 2,
            "linecolor": "white",
            "showbackground": true,
            "ticks": "",
            "zerolinecolor": "white"
           },
           "zaxis": {
            "backgroundcolor": "#E5ECF6",
            "gridcolor": "white",
            "gridwidth": 2,
            "linecolor": "white",
            "showbackground": true,
            "ticks": "",
            "zerolinecolor": "white"
           }
          },
          "shapedefaults": {
           "line": {
            "color": "#2a3f5f"
           }
          },
          "ternary": {
           "aaxis": {
            "gridcolor": "white",
            "linecolor": "white",
            "ticks": ""
           },
           "baxis": {
            "gridcolor": "white",
            "linecolor": "white",
            "ticks": ""
           },
           "bgcolor": "#E5ECF6",
           "caxis": {
            "gridcolor": "white",
            "linecolor": "white",
            "ticks": ""
           }
          },
          "title": {
           "x": 0.05
          },
          "xaxis": {
           "automargin": true,
           "gridcolor": "white",
           "linecolor": "white",
           "ticks": "",
           "title": {
            "standoff": 15
           },
           "zerolinecolor": "white",
           "zerolinewidth": 2
          },
          "yaxis": {
           "automargin": true,
           "gridcolor": "white",
           "linecolor": "white",
           "ticks": "",
           "title": {
            "standoff": 15
           },
           "zerolinecolor": "white",
           "zerolinewidth": 2
          }
         }
        },
        "xaxis": {
         "anchor": "y",
         "domain": [
          0,
          1
         ],
         "title": {
          "text": "Length"
         }
        },
        "yaxis": {
         "anchor": "x",
         "domain": [
          0,
          1
         ],
         "title": {
          "text": "count"
         }
        }
       }
      }
     },
     "metadata": {},
     "output_type": "display_data"
    }
   ],
   "source": [
    "\n",
    "fig4 = px.histogram(lexcast_df, x='Length', nbins=100)\n",
    "fig4.update_layout(bargap=0.1)\n",
    "fig4"
   ]
  },
  {
   "cell_type": "code",
   "execution_count": null,
   "metadata": {},
   "outputs": [
    {
     "data": {
      "application/vnd.plotly.v1+json": {
       "config": {
        "plotlyServerURL": "https://plot.ly"
       },
       "data": [
        {
         "alignmentgroup": "True",
         "bingroup": "x",
         "hovertemplate": "Date=%{x}<br>count=%{y}<extra></extra>",
         "legendgroup": "",
         "marker": {
          "color": "#636efa",
          "pattern": {
           "shape": ""
          }
         },
         "name": "",
         "nbinsx": 100,
         "offsetgroup": "",
         "orientation": "v",
         "showlegend": false,
         "type": "histogram",
         "x": [
          "2018-04-19",
          "2018-05-29",
          "2018-10-17",
          "2018-10-20",
          "2018-11-16",
          "2018-11-22",
          "2018-11-29",
          "2018-12-04",
          "2018-12-09",
          "2018-12-16",
          "2018-12-23",
          "2018-12-28",
          "2019-01-19",
          "2019-02-07",
          "2019-03-12",
          "2019-03-20",
          "2019-04-03",
          "2019-04-12",
          "2019-04-18",
          "2019-04-29",
          "2019-05-13",
          "2019-06-03",
          "2019-06-10",
          "2019-06-17",
          "2019-07-01",
          "2019-07-10",
          "2019-07-15",
          "2019-07-22",
          "2019-07-29",
          "2019-08-01",
          "2019-08-05",
          "2019-08-12",
          "2019-08-19",
          "2019-08-23",
          "2019-08-27",
          "2019-08-31",
          "2019-09-08",
          "2019-09-14",
          "2019-09-19",
          "2019-09-23",
          "2019-09-26",
          "2019-09-30",
          "2019-10-03",
          "2019-10-11",
          "2019-10-22",
          "2019-10-27",
          "2019-11-01",
          "2019-11-07",
          "2019-11-12",
          "2019-11-19",
          "2019-11-22",
          "2019-11-25",
          "2019-11-29",
          "2019-12-02",
          "2019-12-05",
          "2019-12-11",
          "2019-12-14",
          "2019-12-17",
          "2019-12-21",
          "2019-12-25",
          "2019-12-28",
          "2019-12-30",
          "2020-01-03",
          "2020-01-07",
          "2020-01-14",
          "2020-01-17",
          "2020-01-21",
          "2020-01-25",
          "2020-01-29",
          "2020-02-05",
          "2020-02-14",
          "2020-02-17",
          "2020-02-20",
          "2020-02-24",
          "2020-02-26",
          "2020-02-29",
          "2020-03-03",
          "2020-03-05",
          "2020-03-07",
          "2020-03-16",
          "2020-03-19",
          "2020-03-21",
          "2020-03-25",
          "2020-03-28",
          "2020-03-31",
          "2020-04-03",
          "2020-04-09",
          "2020-04-13",
          "2020-04-18",
          "2020-04-22",
          "2020-04-24",
          "2020-04-29",
          "2020-05-05",
          "2020-05-08",
          "2020-05-12",
          "2020-05-15",
          "2020-05-19",
          "2020-05-23",
          "2020-05-28",
          "2020-06-13",
          "2020-06-20",
          "2020-06-22",
          "2020-06-27",
          "2020-06-30",
          "2020-07-03",
          "2020-07-08",
          "2020-07-14",
          "2020-07-18",
          "2020-07-21",
          "2020-07-26",
          "2020-07-29",
          "2020-07-31",
          "2020-08-09",
          "2020-08-14",
          "2020-08-16",
          "2020-08-20",
          "2020-08-23",
          "2020-08-26",
          "2020-08-30",
          "2020-09-05",
          "2020-09-08",
          "2020-09-12",
          "2020-09-15",
          "2020-09-20",
          "2020-09-24",
          "2020-09-26",
          "2020-10-02",
          "2020-10-04",
          "2020-10-11",
          "2020-10-18",
          "2020-10-21",
          "2020-10-25",
          "2020-10-29",
          "2020-11-01",
          "2020-11-02",
          "2020-11-07",
          "2020-11-13",
          "2020-11-16",
          "2020-11-20",
          "2020-11-25",
          "2020-11-30",
          "2020-12-06",
          "2020-12-12",
          "2020-12-13",
          "2020-12-18",
          "2020-12-20",
          "2020-12-26",
          "2020-12-27",
          "2020-12-31",
          "2021-01-04",
          "2021-01-09",
          "2021-01-11",
          "2021-01-13",
          "2021-01-17",
          "2021-01-27",
          "2021-01-29",
          "2021-02-01",
          "2021-02-05",
          "2021-02-07",
          "2021-02-12",
          "2021-02-15",
          "2021-02-18",
          "2021-02-22",
          "2021-02-28",
          "2021-03-01",
          "2021-03-04",
          "2021-03-13",
          "2021-03-14",
          "2021-03-20",
          "2021-03-21",
          "2021-03-25",
          "2021-03-29",
          "2021-03-31",
          "2021-04-10",
          "2021-04-12",
          "2021-04-17",
          "2021-04-18",
          "2021-04-24",
          "2021-04-25",
          "2021-04-29",
          "2021-05-01",
          "2021-05-09",
          "2021-05-14",
          "2021-05-17",
          "2021-05-20",
          "2021-05-24",
          "2021-05-29",
          "2021-06-03",
          "2021-06-06",
          "2021-06-12",
          "2021-06-14",
          "2021-06-16",
          "2021-06-20",
          "2021-06-25",
          "2021-06-27",
          "2021-06-30",
          "2021-07-04",
          "2021-07-09",
          "2021-07-11",
          "2021-07-15",
          "2021-07-18",
          "2021-07-20",
          "2021-07-23",
          "2021-07-25",
          "2021-07-28",
          "2021-07-31",
          "2021-08-03",
          "2021-08-07",
          "2021-08-08",
          "2021-08-11",
          "2021-08-14",
          "2021-08-21",
          "2021-08-23",
          "2021-08-27",
          "2021-08-29",
          "2021-09-01",
          "2021-09-03",
          "2021-09-06",
          "2021-09-09",
          "2021-09-11",
          "2021-09-15",
          "2021-09-19",
          "2021-09-20",
          "2021-09-22",
          "2021-09-26",
          "2021-09-27",
          "2021-09-30",
          "2021-10-05",
          "2021-10-10",
          "2021-10-14",
          "2021-10-16",
          "2021-10-20",
          "2021-10-23",
          "2021-10-26",
          "2021-10-29",
          "2021-10-31",
          "2021-11-03",
          "2021-11-05",
          "2021-11-08",
          "2021-11-11",
          "2021-11-16",
          "2021-11-20",
          "2021-11-23",
          "2021-11-28",
          "2021-11-30",
          "2021-12-03",
          "2021-12-08",
          "2021-12-12",
          "2021-12-18",
          "2021-12-23",
          "2021-12-25",
          "2021-12-28",
          "2021-12-31",
          "2022-01-04",
          "2022-01-08",
          "2022-01-15",
          "2022-01-18",
          "2022-01-22",
          "2022-01-26",
          "2022-01-30",
          "2022-02-03",
          "2022-02-06",
          "2022-02-11",
          "2022-02-13",
          "2022-02-16",
          "2022-02-20",
          "2022-02-26",
          "2022-03-11",
          "2022-03-16",
          "2022-03-23",
          "2022-03-27",
          "2022-04-03",
          "2022-04-07",
          "2022-04-10",
          "2022-04-14",
          "2022-04-17",
          "2022-04-20",
          "2022-04-24",
          "2022-04-27",
          "2022-04-29",
          "2022-05-11",
          "2022-05-14",
          "2022-05-17",
          "2022-05-23",
          "2022-05-25",
          "2022-05-30",
          "2022-06-09",
          "2022-06-12",
          "2022-06-15",
          "2022-06-17",
          "2022-06-21",
          "2022-06-25",
          "2022-06-28",
          "2022-07-01",
          "2022-07-04",
          "2022-07-09",
          "2022-07-14",
          "2022-07-17",
          "2022-07-20",
          "2022-07-23",
          "2022-07-26",
          "2022-07-29",
          "2022-08-01",
          "2022-08-04",
          "2022-08-08",
          "2022-08-13",
          "2022-08-16",
          "2022-08-19",
          "2022-08-24",
          "2022-08-27",
          "2022-08-31",
          "2022-09-04",
          "2022-09-07",
          "2022-09-09",
          "2022-09-14",
          "2022-09-17",
          "2022-09-21",
          "2022-09-24",
          "2022-09-27",
          "2022-10-01",
          "2022-10-05",
          "2022-10-07",
          "2022-10-10"
         ],
         "xaxis": "x",
         "yaxis": "y"
        }
       ],
       "layout": {
        "bargap": 0.1,
        "barmode": "relative",
        "legend": {
         "tracegroupgap": 0
        },
        "margin": {
         "t": 60
        },
        "template": {
         "data": {
          "bar": [
           {
            "error_x": {
             "color": "#2a3f5f"
            },
            "error_y": {
             "color": "#2a3f5f"
            },
            "marker": {
             "line": {
              "color": "#E5ECF6",
              "width": 0.5
             },
             "pattern": {
              "fillmode": "overlay",
              "size": 10,
              "solidity": 0.2
             }
            },
            "type": "bar"
           }
          ],
          "barpolar": [
           {
            "marker": {
             "line": {
              "color": "#E5ECF6",
              "width": 0.5
             },
             "pattern": {
              "fillmode": "overlay",
              "size": 10,
              "solidity": 0.2
             }
            },
            "type": "barpolar"
           }
          ],
          "carpet": [
           {
            "aaxis": {
             "endlinecolor": "#2a3f5f",
             "gridcolor": "white",
             "linecolor": "white",
             "minorgridcolor": "white",
             "startlinecolor": "#2a3f5f"
            },
            "baxis": {
             "endlinecolor": "#2a3f5f",
             "gridcolor": "white",
             "linecolor": "white",
             "minorgridcolor": "white",
             "startlinecolor": "#2a3f5f"
            },
            "type": "carpet"
           }
          ],
          "choropleth": [
           {
            "colorbar": {
             "outlinewidth": 0,
             "ticks": ""
            },
            "type": "choropleth"
           }
          ],
          "contour": [
           {
            "colorbar": {
             "outlinewidth": 0,
             "ticks": ""
            },
            "colorscale": [
             [
              0,
              "#0d0887"
             ],
             [
              0.1111111111111111,
              "#46039f"
             ],
             [
              0.2222222222222222,
              "#7201a8"
             ],
             [
              0.3333333333333333,
              "#9c179e"
             ],
             [
              0.4444444444444444,
              "#bd3786"
             ],
             [
              0.5555555555555556,
              "#d8576b"
             ],
             [
              0.6666666666666666,
              "#ed7953"
             ],
             [
              0.7777777777777778,
              "#fb9f3a"
             ],
             [
              0.8888888888888888,
              "#fdca26"
             ],
             [
              1,
              "#f0f921"
             ]
            ],
            "type": "contour"
           }
          ],
          "contourcarpet": [
           {
            "colorbar": {
             "outlinewidth": 0,
             "ticks": ""
            },
            "type": "contourcarpet"
           }
          ],
          "heatmap": [
           {
            "colorbar": {
             "outlinewidth": 0,
             "ticks": ""
            },
            "colorscale": [
             [
              0,
              "#0d0887"
             ],
             [
              0.1111111111111111,
              "#46039f"
             ],
             [
              0.2222222222222222,
              "#7201a8"
             ],
             [
              0.3333333333333333,
              "#9c179e"
             ],
             [
              0.4444444444444444,
              "#bd3786"
             ],
             [
              0.5555555555555556,
              "#d8576b"
             ],
             [
              0.6666666666666666,
              "#ed7953"
             ],
             [
              0.7777777777777778,
              "#fb9f3a"
             ],
             [
              0.8888888888888888,
              "#fdca26"
             ],
             [
              1,
              "#f0f921"
             ]
            ],
            "type": "heatmap"
           }
          ],
          "heatmapgl": [
           {
            "colorbar": {
             "outlinewidth": 0,
             "ticks": ""
            },
            "colorscale": [
             [
              0,
              "#0d0887"
             ],
             [
              0.1111111111111111,
              "#46039f"
             ],
             [
              0.2222222222222222,
              "#7201a8"
             ],
             [
              0.3333333333333333,
              "#9c179e"
             ],
             [
              0.4444444444444444,
              "#bd3786"
             ],
             [
              0.5555555555555556,
              "#d8576b"
             ],
             [
              0.6666666666666666,
              "#ed7953"
             ],
             [
              0.7777777777777778,
              "#fb9f3a"
             ],
             [
              0.8888888888888888,
              "#fdca26"
             ],
             [
              1,
              "#f0f921"
             ]
            ],
            "type": "heatmapgl"
           }
          ],
          "histogram": [
           {
            "marker": {
             "pattern": {
              "fillmode": "overlay",
              "size": 10,
              "solidity": 0.2
             }
            },
            "type": "histogram"
           }
          ],
          "histogram2d": [
           {
            "colorbar": {
             "outlinewidth": 0,
             "ticks": ""
            },
            "colorscale": [
             [
              0,
              "#0d0887"
             ],
             [
              0.1111111111111111,
              "#46039f"
             ],
             [
              0.2222222222222222,
              "#7201a8"
             ],
             [
              0.3333333333333333,
              "#9c179e"
             ],
             [
              0.4444444444444444,
              "#bd3786"
             ],
             [
              0.5555555555555556,
              "#d8576b"
             ],
             [
              0.6666666666666666,
              "#ed7953"
             ],
             [
              0.7777777777777778,
              "#fb9f3a"
             ],
             [
              0.8888888888888888,
              "#fdca26"
             ],
             [
              1,
              "#f0f921"
             ]
            ],
            "type": "histogram2d"
           }
          ],
          "histogram2dcontour": [
           {
            "colorbar": {
             "outlinewidth": 0,
             "ticks": ""
            },
            "colorscale": [
             [
              0,
              "#0d0887"
             ],
             [
              0.1111111111111111,
              "#46039f"
             ],
             [
              0.2222222222222222,
              "#7201a8"
             ],
             [
              0.3333333333333333,
              "#9c179e"
             ],
             [
              0.4444444444444444,
              "#bd3786"
             ],
             [
              0.5555555555555556,
              "#d8576b"
             ],
             [
              0.6666666666666666,
              "#ed7953"
             ],
             [
              0.7777777777777778,
              "#fb9f3a"
             ],
             [
              0.8888888888888888,
              "#fdca26"
             ],
             [
              1,
              "#f0f921"
             ]
            ],
            "type": "histogram2dcontour"
           }
          ],
          "mesh3d": [
           {
            "colorbar": {
             "outlinewidth": 0,
             "ticks": ""
            },
            "type": "mesh3d"
           }
          ],
          "parcoords": [
           {
            "line": {
             "colorbar": {
              "outlinewidth": 0,
              "ticks": ""
             }
            },
            "type": "parcoords"
           }
          ],
          "pie": [
           {
            "automargin": true,
            "type": "pie"
           }
          ],
          "scatter": [
           {
            "fillpattern": {
             "fillmode": "overlay",
             "size": 10,
             "solidity": 0.2
            },
            "type": "scatter"
           }
          ],
          "scatter3d": [
           {
            "line": {
             "colorbar": {
              "outlinewidth": 0,
              "ticks": ""
             }
            },
            "marker": {
             "colorbar": {
              "outlinewidth": 0,
              "ticks": ""
             }
            },
            "type": "scatter3d"
           }
          ],
          "scattercarpet": [
           {
            "marker": {
             "colorbar": {
              "outlinewidth": 0,
              "ticks": ""
             }
            },
            "type": "scattercarpet"
           }
          ],
          "scattergeo": [
           {
            "marker": {
             "colorbar": {
              "outlinewidth": 0,
              "ticks": ""
             }
            },
            "type": "scattergeo"
           }
          ],
          "scattergl": [
           {
            "marker": {
             "colorbar": {
              "outlinewidth": 0,
              "ticks": ""
             }
            },
            "type": "scattergl"
           }
          ],
          "scattermapbox": [
           {
            "marker": {
             "colorbar": {
              "outlinewidth": 0,
              "ticks": ""
             }
            },
            "type": "scattermapbox"
           }
          ],
          "scatterpolar": [
           {
            "marker": {
             "colorbar": {
              "outlinewidth": 0,
              "ticks": ""
             }
            },
            "type": "scatterpolar"
           }
          ],
          "scatterpolargl": [
           {
            "marker": {
             "colorbar": {
              "outlinewidth": 0,
              "ticks": ""
             }
            },
            "type": "scatterpolargl"
           }
          ],
          "scatterternary": [
           {
            "marker": {
             "colorbar": {
              "outlinewidth": 0,
              "ticks": ""
             }
            },
            "type": "scatterternary"
           }
          ],
          "surface": [
           {
            "colorbar": {
             "outlinewidth": 0,
             "ticks": ""
            },
            "colorscale": [
             [
              0,
              "#0d0887"
             ],
             [
              0.1111111111111111,
              "#46039f"
             ],
             [
              0.2222222222222222,
              "#7201a8"
             ],
             [
              0.3333333333333333,
              "#9c179e"
             ],
             [
              0.4444444444444444,
              "#bd3786"
             ],
             [
              0.5555555555555556,
              "#d8576b"
             ],
             [
              0.6666666666666666,
              "#ed7953"
             ],
             [
              0.7777777777777778,
              "#fb9f3a"
             ],
             [
              0.8888888888888888,
              "#fdca26"
             ],
             [
              1,
              "#f0f921"
             ]
            ],
            "type": "surface"
           }
          ],
          "table": [
           {
            "cells": {
             "fill": {
              "color": "#EBF0F8"
             },
             "line": {
              "color": "white"
             }
            },
            "header": {
             "fill": {
              "color": "#C8D4E3"
             },
             "line": {
              "color": "white"
             }
            },
            "type": "table"
           }
          ]
         },
         "layout": {
          "annotationdefaults": {
           "arrowcolor": "#2a3f5f",
           "arrowhead": 0,
           "arrowwidth": 1
          },
          "autotypenumbers": "strict",
          "coloraxis": {
           "colorbar": {
            "outlinewidth": 0,
            "ticks": ""
           }
          },
          "colorscale": {
           "diverging": [
            [
             0,
             "#8e0152"
            ],
            [
             0.1,
             "#c51b7d"
            ],
            [
             0.2,
             "#de77ae"
            ],
            [
             0.3,
             "#f1b6da"
            ],
            [
             0.4,
             "#fde0ef"
            ],
            [
             0.5,
             "#f7f7f7"
            ],
            [
             0.6,
             "#e6f5d0"
            ],
            [
             0.7,
             "#b8e186"
            ],
            [
             0.8,
             "#7fbc41"
            ],
            [
             0.9,
             "#4d9221"
            ],
            [
             1,
             "#276419"
            ]
           ],
           "sequential": [
            [
             0,
             "#0d0887"
            ],
            [
             0.1111111111111111,
             "#46039f"
            ],
            [
             0.2222222222222222,
             "#7201a8"
            ],
            [
             0.3333333333333333,
             "#9c179e"
            ],
            [
             0.4444444444444444,
             "#bd3786"
            ],
            [
             0.5555555555555556,
             "#d8576b"
            ],
            [
             0.6666666666666666,
             "#ed7953"
            ],
            [
             0.7777777777777778,
             "#fb9f3a"
            ],
            [
             0.8888888888888888,
             "#fdca26"
            ],
            [
             1,
             "#f0f921"
            ]
           ],
           "sequentialminus": [
            [
             0,
             "#0d0887"
            ],
            [
             0.1111111111111111,
             "#46039f"
            ],
            [
             0.2222222222222222,
             "#7201a8"
            ],
            [
             0.3333333333333333,
             "#9c179e"
            ],
            [
             0.4444444444444444,
             "#bd3786"
            ],
            [
             0.5555555555555556,
             "#d8576b"
            ],
            [
             0.6666666666666666,
             "#ed7953"
            ],
            [
             0.7777777777777778,
             "#fb9f3a"
            ],
            [
             0.8888888888888888,
             "#fdca26"
            ],
            [
             1,
             "#f0f921"
            ]
           ]
          },
          "colorway": [
           "#636efa",
           "#EF553B",
           "#00cc96",
           "#ab63fa",
           "#FFA15A",
           "#19d3f3",
           "#FF6692",
           "#B6E880",
           "#FF97FF",
           "#FECB52"
          ],
          "font": {
           "color": "#2a3f5f"
          },
          "geo": {
           "bgcolor": "white",
           "lakecolor": "white",
           "landcolor": "#E5ECF6",
           "showlakes": true,
           "showland": true,
           "subunitcolor": "white"
          },
          "hoverlabel": {
           "align": "left"
          },
          "hovermode": "closest",
          "mapbox": {
           "style": "light"
          },
          "paper_bgcolor": "white",
          "plot_bgcolor": "#E5ECF6",
          "polar": {
           "angularaxis": {
            "gridcolor": "white",
            "linecolor": "white",
            "ticks": ""
           },
           "bgcolor": "#E5ECF6",
           "radialaxis": {
            "gridcolor": "white",
            "linecolor": "white",
            "ticks": ""
           }
          },
          "scene": {
           "xaxis": {
            "backgroundcolor": "#E5ECF6",
            "gridcolor": "white",
            "gridwidth": 2,
            "linecolor": "white",
            "showbackground": true,
            "ticks": "",
            "zerolinecolor": "white"
           },
           "yaxis": {
            "backgroundcolor": "#E5ECF6",
            "gridcolor": "white",
            "gridwidth": 2,
            "linecolor": "white",
            "showbackground": true,
            "ticks": "",
            "zerolinecolor": "white"
           },
           "zaxis": {
            "backgroundcolor": "#E5ECF6",
            "gridcolor": "white",
            "gridwidth": 2,
            "linecolor": "white",
            "showbackground": true,
            "ticks": "",
            "zerolinecolor": "white"
           }
          },
          "shapedefaults": {
           "line": {
            "color": "#2a3f5f"
           }
          },
          "ternary": {
           "aaxis": {
            "gridcolor": "white",
            "linecolor": "white",
            "ticks": ""
           },
           "baxis": {
            "gridcolor": "white",
            "linecolor": "white",
            "ticks": ""
           },
           "bgcolor": "#E5ECF6",
           "caxis": {
            "gridcolor": "white",
            "linecolor": "white",
            "ticks": ""
           }
          },
          "title": {
           "x": 0.05
          },
          "xaxis": {
           "automargin": true,
           "gridcolor": "white",
           "linecolor": "white",
           "ticks": "",
           "title": {
            "standoff": 15
           },
           "zerolinecolor": "white",
           "zerolinewidth": 2
          },
          "yaxis": {
           "automargin": true,
           "gridcolor": "white",
           "linecolor": "white",
           "ticks": "",
           "title": {
            "standoff": 15
           },
           "zerolinecolor": "white",
           "zerolinewidth": 2
          }
         }
        },
        "xaxis": {
         "anchor": "y",
         "domain": [
          0,
          1
         ],
         "title": {
          "text": "Date"
         }
        },
        "yaxis": {
         "anchor": "x",
         "domain": [
          0,
          1
         ],
         "title": {
          "text": "count"
         }
        }
       }
      }
     },
     "metadata": {},
     "output_type": "display_data"
    }
   ],
   "source": [
    "fig5 = px.histogram(lexcast_df, x='Date', nbins=100)\n",
    "fig5.update_layout(bargap=0.1)\n",
    "fig5"
   ]
  },
  {
   "cell_type": "code",
   "execution_count": null,
   "metadata": {},
   "outputs": [],
   "source": []
  }
 ],
 "metadata": {
  "kernelspec": {
   "display_name": "Python 3.10.6 ('lex')",
   "language": "python",
   "name": "python3"
  },
  "language_info": {
   "codemirror_mode": {
    "name": "ipython",
    "version": 3
   },
   "file_extension": ".py",
   "mimetype": "text/x-python",
   "name": "python",
   "nbconvert_exporter": "python",
   "pygments_lexer": "ipython3",
   "version": "3.10.6"
  },
  "orig_nbformat": 4,
  "vscode": {
   "interpreter": {
    "hash": "7dbd00e0fe350d756431e7f882f1c346a836c52564590e0cf5d48e6530b226ad"
   }
  }
 },
 "nbformat": 4,
 "nbformat_minor": 2
}
